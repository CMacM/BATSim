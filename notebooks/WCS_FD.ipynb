{
 "cells": [
  {
   "cell_type": "code",
   "execution_count": 1,
   "id": "ab90feff-6cc9-4e6c-863c-92806e39c149",
   "metadata": {},
   "outputs": [],
   "source": [
    "%matplotlib inline\n",
    "%reload_ext autoreload\n",
    "%autoreload 2\n",
    "import os\n",
    "import galsim\n",
    "from galsim.angle import radians, arcsec, degrees, AngleUnit\n",
    "import numpy as np\n",
    "import matplotlib.pylab as plt\n",
    "import time\n",
    "import sys\n",
    "\n",
    "sys.path.append('/Users/andypark/Desktop/phd/batsim')\n",
    "\n",
    "from astropy import wcs\n",
    "from astropy.io import fits\n",
    "from astropy.wcs import WCS\n",
    "from astropy.utils.data import get_pkg_data_filename\n",
    "\n",
    "import jax\n",
    "import jax.numpy as jnp\n",
    "jax.config.update(\"jax_enable_x64\", True)"
   ]
  },
  {
   "cell_type": "code",
   "execution_count": 2,
   "id": "ae719635-ab5d-443a-93b3-5305985712b4",
   "metadata": {},
   "outputs": [
    {
     "name": "stderr",
     "output_type": "stream",
     "text": [
      "WARNING: FITSFixedWarning: 'datfix' made the change 'Set DATE-OBS to '2022-08-31T06:51:04.090' from MJD-OBS'. [astropy.wcs.wcs]\n"
     ]
    }
   ],
   "source": [
    "wcsfile = \"./eimage_00182850-0-i-R22_S11-det000.fits\"\n",
    "f = fits.open(wcsfile)\n",
    "w = WCS(f[0].header)\n",
    "#w.wcs.cd *= 1. * arcsec / degrees\n",
    "#w.sip.a[1, 0] += 1.\n",
    "#w.sip.b[0, 1] += 1."
   ]
  },
  {
   "cell_type": "code",
   "execution_count": 3,
   "id": "c9ec71f1-b0e2-401a-b441-bad53fc3b3cf",
   "metadata": {},
   "outputs": [],
   "source": [
    "def get_radec(params, w, deg=False):\n",
    "    params = jnp.asarray(params)\n",
    "    params = params.astype(jnp.float64)\n",
    "    u, v = get_uv(params, w)\n",
    "    # 4) turn u, v into ra, dec\n",
    "    cra, cdec = w.wcs.crval * degrees\n",
    "    cra = cra.rad\n",
    "    cdec = cdec.rad\n",
    "    #u = u * radians / degrees\n",
    "    #v = v * radians / degrees\n",
    "    rsq = u * u\n",
    "    rsq += v * v\n",
    "    cosc = sinc_over_r = 1./jnp.sqrt(1.+rsq)\n",
    "    sindec = v * sinc_over_r\n",
    "    sindec *= jnp.cos(cdec)\n",
    "    sindec += cosc * jnp.sin(cdec)\n",
    "    tandra_num = u * sinc_over_r\n",
    "    tandra_num *= -1.\n",
    "    tandra_denom = v * sinc_over_r\n",
    "    tandra_denom *= -jnp.sin(cdec)\n",
    "    tandra_denom += cosc * jnp.cos(cdec)\n",
    "    dec = jnp.arcsin(sindec)\n",
    "    ra = cra + jnp.arctan2(tandra_num, tandra_denom)\n",
    "    #center = galsim.CelestialCoord(w.wcs.crval[0] * degrees, w.wcs.crval[1] * degrees)\n",
    "    #ra, dec = center.deproject_rad(u, v, \"gnomonic\")\n",
    "    if deg:\n",
    "        return ra * 180. / jnp.pi, dec * 180. / jnp.pi\n",
    "    return ra, dec\n",
    "\n",
    "def get_uv(params, w):\n",
    "    params = jnp.asarray(params).astype(jnp.float32)\n",
    "    x, y = params\n",
    "    x -= w.wcs.crpix[0]\n",
    "    y -= w.wcs.crpix[1] \n",
    "\n",
    "    ab = np.array([w.sip.a, w.sip.b])\n",
    "    order = len(ab[0])-1\n",
    "    xpow = x ** jnp.arange(order+1)\n",
    "    ypow = y ** jnp.arange(order+1)\n",
    "    p1 = jnp.dot(jnp.dot(ab, ypow), xpow)\n",
    "    \n",
    "    x += p1[0]\n",
    "    y += p1[1]\n",
    "    \n",
    "    u, v = w.wcs.cd @ jnp.array([x, y])\n",
    "    factor = 1. * degrees / radians\n",
    "    u *= -factor\n",
    "    v *= factor\n",
    "    return u, v"
   ]
  },
  {
   "cell_type": "markdown",
   "id": "d3cd25f8-75bf-4108-9ceb-5fcf813ab7a4",
   "metadata": {},
   "source": [
    "# Galsim"
   ]
  },
  {
   "cell_type": "code",
   "execution_count": 8,
   "id": "e3412ee8-f9ea-45a3-8fa1-15c83b525775",
   "metadata": {},
   "outputs": [
    {
     "data": {
      "text/plain": [
       "(51.793908983991834, -40.26485572360853)"
      ]
     },
     "execution_count": 8,
     "metadata": {},
     "output_type": "execute_result"
    }
   ],
   "source": [
    "wcs_g = galsim.GSFitsWCS(wcsfile)\n",
    "skypos = wcs_g.toWorld(galsim.PositionI(0, 0))\n",
    "skypos.ra.deg, skypos.dec.deg"
   ]
  },
  {
   "cell_type": "code",
   "execution_count": 10,
   "id": "b1139c05-29aa-4db8-aa03-a37f677daed8",
   "metadata": {},
   "outputs": [
    {
     "data": {
      "text/plain": [
       "(Array(1., dtype=float64), Array(1., dtype=float64))"
      ]
     },
     "execution_count": 10,
     "metadata": {},
     "output_type": "execute_result"
    }
   ],
   "source": [
    "my_skypos = get_radec((0, 0), w, deg=True)\n",
    "skypos.ra.deg / my_skypos[0], skypos.dec.deg / my_skypos[1]"
   ]
  },
  {
   "cell_type": "markdown",
   "id": "8c8837bc-e4d0-4cfb-8ed5-0a16bf77cbed",
   "metadata": {},
   "source": [
    "# Manual?"
   ]
  },
  {
   "cell_type": "markdown",
   "id": "046a69cc-2cd7-4a52-8d13-d288e96f683e",
   "metadata": {},
   "source": [
    "Let $x, y$ be the relative pixel coordinates with origin at $\\mathrm{CRPIX1}$ and $\\mathrm{CRPIX2}$ and $u, v$ be the coordinates on the tangent plane of the celestial sphere\n",
    "$$\n",
    "\\begin{pmatrix}u \\\\ v\\end{pmatrix} = \\begin{pmatrix}\\mathrm{CD1\\_1} & \\mathrm{CD1\\_1} \\\\ \\mathrm{CD2\\_1} & \\mathrm{CD2\\_2}\\end{pmatrix}\\begin{pmatrix}x + f(x, y) \\\\ y + g(x, y)\\end{pmatrix}$$\n",
    "\n",
    "The distortion matrix can be written as\n",
    "$$\n",
    "\\begin{pmatrix}du \\\\ dv\\end{pmatrix} = \\begin{pmatrix}\\partial_x u & \\partial_y u \\\\ \\partial_x v & \\partial_y v\\end{pmatrix}\\begin{pmatrix}dx \\\\ dy\\end{pmatrix} = M\\begin{pmatrix}1 - g_1 & -g_2 + \\theta \\\\ -g_2-\\theta & 1+g_1\\end{pmatrix}\\begin{pmatrix}dx \\\\ dy\\end{pmatrix}$$\n",
    "\n",
    "and Field-Distortion Shear as\n",
    "$$g_1(\\mathrm{FD}) = (\\partial_y v - \\partial_x u) / (\\partial_y v + \\partial_x u)$$ and \n",
    "$$g_2(\\mathrm{FD}) = -(\\partial_x v - \\partial_y u) / (\\partial_y v + \\partial_x u)$$"
   ]
  },
  {
   "cell_type": "code",
   "execution_count": 198,
   "id": "19df19f0-1666-43b6-aa65-83e6f259f92f",
   "metadata": {},
   "outputs": [],
   "source": [
    "def get_radec(params, w, deg=False):\n",
    "    params = jnp.asarray(params)\n",
    "    params = params.astype(jnp.float64)\n",
    "    u, v = get_uv(params, w)\n",
    "    # 4) turn u, v into ra, dec\n",
    "    cra, cdec = w.wcs.crval * degrees\n",
    "    cra = cra.rad\n",
    "    cdec = cdec.rad\n",
    "    #u = u * radians / degrees\n",
    "    #v = v * radians / degrees\n",
    "    rsq = u * u\n",
    "    rsq += v * v\n",
    "    cosc = sinc_over_r = 1./jnp.sqrt(1.+rsq)\n",
    "    sindec = v * sinc_over_r\n",
    "    sindec *= jnp.cos(cdec)\n",
    "    sindec += cosc * jnp.sin(cdec)\n",
    "    tandra_num = u * sinc_over_r\n",
    "    tandra_num *= -1.\n",
    "    tandra_denom = v * sinc_over_r\n",
    "    tandra_denom *= -jnp.sin(cdec)\n",
    "    tandra_denom += cosc * jnp.cos(cdec)\n",
    "    dec = jnp.arcsin(sindec)\n",
    "    ra = cra + jnp.arctan2(tandra_num, tandra_denom)\n",
    "    #center = galsim.CelestialCoord(w.wcs.crval[0] * degrees, w.wcs.crval[1] * degrees)\n",
    "    #ra, dec = center.deproject_rad(u, v, \"gnomonic\")\n",
    "    if deg:\n",
    "        return ra * 180. / jnp.pi, dec * 180. / jnp.pi\n",
    "    return ra, dec"
   ]
  },
  {
   "cell_type": "code",
   "execution_count": 199,
   "id": "d7f4219e-cad8-4884-aa29-fd91c51802fb",
   "metadata": {},
   "outputs": [],
   "source": [
    "def get_uv(params, w):\n",
    "    params = jnp.asarray(params).astype(jnp.float32)\n",
    "    x, y = params\n",
    "    x -= w.wcs.crpix[0]\n",
    "    y -= w.wcs.crpix[1] \n",
    "\n",
    "    ab = np.array([w.sip.a, w.sip.b])\n",
    "    order = len(ab[0])-1\n",
    "    xpow = x ** jnp.arange(order+1)\n",
    "    ypow = y ** jnp.arange(order+1)\n",
    "    p1 = jnp.dot(jnp.dot(ab, ypow), xpow)\n",
    "    \n",
    "    x += p1[0]\n",
    "    y += p1[1]\n",
    "    \n",
    "    u, v = w.wcs.cd @ jnp.array([x, y])\n",
    "    factor = 1. * degrees / radians\n",
    "    u *= -factor\n",
    "    v *= factor\n",
    "    return u, v"
   ]
  },
  {
   "cell_type": "code",
   "execution_count": 215,
   "id": "bac442b8-e509-47f9-ac31-8c13d60fc1df",
   "metadata": {},
   "outputs": [],
   "source": [
    "shape = (64, 64)\n",
    "indx = np.arange(shape[0], dtype=float)\n",
    "indy = np.arange(shape[1], dtype=float)\n",
    "inds = np.meshgrid(indy, indx, indexing=\"ij\")\n",
    "coords = jnp.vstack([np.ravel(_) for _ in inds[::-1]]).T"
   ]
  },
  {
   "cell_type": "code",
   "execution_count": 216,
   "id": "cef11cc4-8746-4e4e-b9d4-10121359081b",
   "metadata": {},
   "outputs": [],
   "source": [
    "dget_uv = jax.vmap(jax.jacfwd(get_radec, 0), in_axes=[0, None])(coords, w)"
   ]
  },
  {
   "cell_type": "code",
   "execution_count": 217,
   "id": "84e167b1-67b6-4d17-be47-f100e2a99287",
   "metadata": {},
   "outputs": [],
   "source": [
    "du_dxy, dv_dxy = dget_uv\n",
    "du_dx, du_dy = du_dxy.T\n",
    "dv_dx, dv_dy = dv_dxy.T\n",
    "g1_fd = (dv_dy - du_dx) / (dv_dy + du_dx)\n",
    "g1_fd = np.reshape(g1_fd, shape)\n",
    "g2_fd = -(dv_dx + du_dy) / (dv_dy + du_dx)\n",
    "g2_fd = np.reshape(g2_fd, shape)"
   ]
  },
  {
   "cell_type": "code",
   "execution_count": 218,
   "id": "3868fc64-a4d1-45ec-a6a5-85ecbfcd81f3",
   "metadata": {},
   "outputs": [
    {
     "data": {
      "text/plain": [
       "Text(0.5, 0, 'g')"
      ]
     },
     "execution_count": 218,
     "metadata": {},
     "output_type": "execute_result"
    },
    {
     "data": {
      "image/png": "[encoded data removed]",
      "text/plain": [
       "<Figure size 640x480 with 1 Axes>"
      ]
     },
     "metadata": {},
     "output_type": "display_data"
    }
   ],
   "source": [
    "plt.hist(np.sqrt(g1_fd ** 2 + g2_fd ** 2).flatten())\n",
    "plt.xlabel('g')"
   ]
  },
  {
   "cell_type": "code",
   "execution_count": 219,
   "id": "750f2878-d5aa-4857-bc7d-5a3860db82d4",
   "metadata": {},
   "outputs": [
    {
     "data": {
      "text/plain": [
       "Text(0.5, 1.0, 'g2')"
      ]
     },
     "execution_count": 219,
     "metadata": {},
     "output_type": "execute_result"
    },
    {
     "data": {
      "image/png": "[encoded data removed]",
      "text/plain": [
       "<Figure size 640x480 with 2 Axes>"
      ]
     },
     "metadata": {},
     "output_type": "display_data"
    }
   ],
   "source": [
    "plt.imshow(g2_fd)\n",
    "plt.colorbar()\n",
    "plt.title('g2')"
   ]
  },
  {
   "cell_type": "code",
   "execution_count": 220,
   "id": "b4804f78-4ff1-43aa-b51f-6d71a973c091",
   "metadata": {},
   "outputs": [
    {
     "data": {
      "text/plain": [
       "Text(0.5, 1.0, 'g1')"
      ]
     },
     "execution_count": 220,
     "metadata": {},
     "output_type": "execute_result"
    },
    {
     "data": {
      "image/png": "[encoded data removed]",
      "text/plain": [
       "<Figure size 640x480 with 2 Axes>"
      ]
     },
     "metadata": {},
     "output_type": "display_data"
    }
   ],
   "source": [
    "plt.imshow(g1_fd)\n",
    "plt.colorbar()\n",
    "plt.title('g1')"
   ]
  },
  {
   "cell_type": "markdown",
   "id": "0dd18889-d12d-4c4c-9d3d-fb06d18d1d1f",
   "metadata": {},
   "source": [
    "f = fits.open('./eimage_00182850-0-i-R22_S11-det000.fits')\n",
    "w = WCS(f[0].header)\n",
    "\n",
    "x, y = 0, 0\n",
    "\n",
    "# 1) subtract off CRPIX\n",
    "x -= w.wcs.crpix[0]\n",
    "y -= w.wcs.crpix[1] \n",
    "\n",
    "# 2) SIP\n",
    "w.sip.a[1, 0] += 1\n",
    "w.sip.b[0, 1] += 1\n",
    "f = 0\n",
    "df_dx = 0\n",
    "for p in range(w.sip.a_order+1):\n",
    "    for q in range(w.sip.a_order+1):\n",
    "        f += w.sip.a[p, q] * jnp.power(x, p) * jnp.power(y, q)\n",
    "        df_dx += p * w.sip.a[p, q] * jnp.power(x, p-1) * jnp.power(y, q)\n",
    "        \n",
    "g = 0\n",
    "dg_dx = 0\n",
    "for p in range(w.sip.a_order+1):\n",
    "    for q in range(w.sip.a_order+1):\n",
    "        g += w.sip.b[p, q] * jnp.power(x, p) * jnp.power(y, q)\n",
    "        dg_dx += p * w.sip.b[p, q] * jnp.power(x, p-1) * jnp.power(y, q)\n",
    "\n",
    "x += f\n",
    "y += g\n",
    "\n",
    "# 3) Apply CD\n",
    "u, v = w.wcs.cd @ np.array([x, y])\n",
    "print(u, v)\n",
    "factor = 1. * degrees / radians\n",
    "u *= -factor\n",
    "v *= factor\n",
    "\n",
    "# 4) turn u, v into ra, dec\n",
    "center = galsim.CelestialCoord(w.wcs.crval[0] * degrees, w.wcs.crval[1] * degrees)\n",
    "ra, dec = center.deproject_rad(u, v, \"gnomonic\")\n",
    "ra *= radians / degrees"
   ]
  },
  {
   "cell_type": "code",
   "execution_count": 44,
   "id": "a131b854-cfdf-40a3-a447-152ee5a69c3f",
   "metadata": {},
   "outputs": [
    {
     "data": {
      "text/plain": [
       "(4, 4)"
      ]
     },
     "execution_count": 44,
     "metadata": {},
     "output_type": "execute_result"
    }
   ],
   "source": [
    "w.sip.a.shape"
   ]
  },
  {
   "cell_type": "code",
   "execution_count": 67,
   "id": "a2344d3a-2df3-4ed8-9709-419d2df0d449",
   "metadata": {},
   "outputs": [],
   "source": [
    "ab = np.array([w.sip.a, w.sip.b])"
   ]
  },
  {
   "cell_type": "code",
   "execution_count": 69,
   "id": "e0781895-7c5d-4d1b-9a57-b4c4e75a935d",
   "metadata": {},
   "outputs": [
    {
     "data": {
      "text/plain": [
       "(2, 4, 4)"
      ]
     },
     "execution_count": 69,
     "metadata": {},
     "output_type": "execute_result"
    }
   ],
   "source": [
    "ab.shape"
   ]
  },
  {
   "cell_type": "code",
   "execution_count": 70,
   "id": "ca17f932-5f05-41c6-8932-61731834be89",
   "metadata": {},
   "outputs": [],
   "source": [
    "x, y = 3, 10\n",
    "order = len(w.sip.a[0])-1\n",
    "xpow = x ** np.arange(order+1)\n",
    "ypow = y ** np.arange(order+1)\n",
    "p1 = np.dot(np.dot(ab, ypow), xpow)"
   ]
  },
  {
   "cell_type": "code",
   "execution_count": 77,
   "id": "209b9000-855d-4ffd-871d-5ea6b66b4e03",
   "metadata": {},
   "outputs": [],
   "source": [
    "jac = np.diag([1, 1])"
   ]
  },
  {
   "cell_type": "code",
   "execution_count": 79,
   "id": "754c6070-b9ab-4b28-a090-09e4f103981c",
   "metadata": {},
   "outputs": [],
   "source": [
    "dxpow = np.zeros(order+1)\n",
    "dypow = np.zeros(order+1)\n",
    "dxpow[1:] = (np.arange(order)+1.) * xpow[:-1]\n",
    "dypow[1:] = (np.arange(order)+1.) * ypow[:-1]\n",
    "j1 = np.transpose([np.dot(np.dot(ab, ypow), dxpow),\n",
    "                   np.dot(np.dot(ab, xpow), dypow)])\n",
    "jac = np.dot(j1, jac)"
   ]
  },
  {
   "cell_type": "code",
   "execution_count": 81,
   "id": "518120e4-5490-4d9d-9966-36194b7e8833",
   "metadata": {},
   "outputs": [],
   "source": [
    "p2 = np.dot(w.wcs.cd, p1)\n",
    "jac = np.dot(w.wcs.cd, jac)"
   ]
  },
  {
   "cell_type": "code",
   "execution_count": 85,
   "id": "f7b69a08-5201-4979-88ec-8ed62bd31556",
   "metadata": {},
   "outputs": [],
   "source": [
    "unit_covert = [-1 * degrees / radians, 1 * degrees / radians]\n",
    "p2 *= unit_covert"
   ]
  },
  {
   "cell_type": "code",
   "execution_count": 87,
   "id": "67807f57-396e-4f4d-9313-3f408973ac04",
   "metadata": {},
   "outputs": [],
   "source": [
    "jac = jac * np.transpose([unit_covert])"
   ]
  },
  {
   "cell_type": "code",
   "execution_count": 98,
   "id": "cd2ce99d-1ed0-4641-b347-77fe29cfc64a",
   "metadata": {},
   "outputs": [],
   "source": [
    "cra, cdec = w.wcs.crval\n",
    "cra = cra * np.pi / 180\n",
    "cdec = cdec * np.pi / 180\n",
    "\n",
    "def jac_deproject(u, v):\n",
    "    rsq = u*u + v*v\n",
    "    rsq1 = (u+1.e-4)**2 + v**2\n",
    "    rsq2 = u**2 + (v+1.e-4)**2\n",
    "    c = s = 1./np.sqrt(1.+rsq)\n",
    "    s3 = s*s*s\n",
    "    dcdu = dsdu = -u*s3\n",
    "    dcdv = dsdv = -v*s3\n",
    "    s0 = np.sin(cdec)\n",
    "    c0 = np.cos(cdec)\n",
    "    sindec = c * s0 + v * s * c0\n",
    "    cosdec = np.sqrt(1.-sindec*sindec)\n",
    "    dddu = ( s0 * dcdu + v * dsdu * c0 ) / cosdec\n",
    "    dddv = ( s0 * dcdv + (v * dsdv + s) * c0 ) / cosdec\n",
    "\n",
    "    tandra_num = u * s\n",
    "    tandra_denom = c * c0 - v * s * s0\n",
    "    \n",
    "    A2sec2dra = tandra_denom**2 + tandra_num**2\n",
    "    drdu = ((u * dsdu + s) * tandra_denom - u * s * ( dcdu * c0 - v * dsdu * s0 ))/A2sec2dra\n",
    "    drdv = (u * dsdv * tandra_denom - u * s * ( dcdv * c0 - (v * dsdv + s) * s0 ))/A2sec2dra\n",
    "\n",
    "    drdu *= cosdec\n",
    "    drdv *= cosdec\n",
    "    return np.array([[drdu, drdv], [dddu, dddv]])\n",
    "\n",
    "j2 = jac_deproject(p2[0], p2[1])\n",
    "jac = np.dot(j2, jac)\n",
    "\n",
    "jac *= radians / arcsec\n"
   ]
  },
  {
   "cell_type": "code",
   "execution_count": 128,
   "id": "1bc82fa6-018f-4c84-ad7b-397e6edc4a38",
   "metadata": {},
   "outputs": [
    {
     "data": {
      "text/plain": [
       "(array([[-0.18113955, -0.18113955],\n",
       "        [ 0.08500092,  0.08500092]]),\n",
       " galsim.JacobianWCS(-0.1813237293527408, -0.0846045658884356, 0.08459759819988825, -0.18130939375149208))"
      ]
     },
     "execution_count": 128,
     "metadata": {},
     "output_type": "execute_result"
    }
   ],
   "source": [
    "jac, test"
   ]
  },
  {
   "cell_type": "code",
   "execution_count": 100,
   "id": "5f0f0674-eac9-4147-a5a9-227868fc9e96",
   "metadata": {},
   "outputs": [],
   "source": [
    "dxxi = jac[0, 0]\n",
    "dyxi = jac[0, 1]\n",
    "dxeta = jac[1, 0]\n",
    "dyeta = jac[1, 1]"
   ]
  },
  {
   "cell_type": "code",
   "execution_count": 101,
   "id": "754374f6-3aab-4a4d-a5bc-d8e1de6d85cf",
   "metadata": {},
   "outputs": [
    {
     "data": {
      "text/plain": [
       "-2.768299052331508"
      ]
     },
     "execution_count": 101,
     "metadata": {},
     "output_type": "execute_result"
    }
   ],
   "source": [
    "(dyeta - dxxi) / (dyeta + dxxi)"
   ]
  },
  {
   "cell_type": "code",
   "execution_count": 102,
   "id": "55350bb9-65d5-46a6-bfa1-5dd772d7c0f0",
   "metadata": {},
   "outputs": [
    {
     "data": {
      "text/plain": [
       "-1.0000000061155512"
      ]
     },
     "execution_count": 102,
     "metadata": {},
     "output_type": "execute_result"
    }
   ],
   "source": [
    "-(dxeta + dyxi) / (dyeta + dxxi)"
   ]
  },
  {
   "cell_type": "code",
   "execution_count": 107,
   "id": "36b9c38e-3d64-4561-b360-eb677788d708",
   "metadata": {},
   "outputs": [],
   "source": [
    "center = galsim.CelestialCoord(w.wcs.crval[0] * degrees, w.wcs.crval[1] * degrees)"
   ]
  },
  {
   "cell_type": "code",
   "execution_count": 112,
   "id": "ba2d4c71-151d-4418-bf05-c68897ed7367",
   "metadata": {},
   "outputs": [
    {
     "data": {
      "text/plain": [
       "array([[-0.18113955, -0.18113955],\n",
       "       [ 0.08500092,  0.08500092]])"
      ]
     },
     "execution_count": 112,
     "metadata": {},
     "output_type": "execute_result"
    }
   ],
   "source": [
    "jac"
   ]
  },
  {
   "cell_type": "code",
   "execution_count": 113,
   "id": "76eb1461-0f59-49a5-bc58-0191a8c988fb",
   "metadata": {},
   "outputs": [],
   "source": [
    "j2 = jac_deproject(p2[0], p2[1])"
   ]
  },
  {
   "cell_type": "code",
   "execution_count": 111,
   "id": "dd47774d-6613-4f86-b563-2f797c8cdff5",
   "metadata": {},
   "outputs": [
    {
     "data": {
      "text/plain": [
       "array([[ 1.00000000e+00,  5.73305056e-06],\n",
       "       [-5.73310153e-06,  1.00000000e+00]])"
      ]
     },
     "execution_count": 111,
     "metadata": {},
     "output_type": "execute_result"
    }
   ],
   "source": [
    "center.jac_deproject_rad(p2[0], p2[1])"
   ]
  },
  {
   "cell_type": "code",
   "execution_count": 119,
   "id": "f6e91024-1386-4177-9a0f-343b62483212",
   "metadata": {},
   "outputs": [],
   "source": [
    "test = wcs_g._local(galsim.PositionI(3, 3))"
   ]
  },
  {
   "cell_type": "code",
   "execution_count": 124,
   "id": "16822924-9bf5-4040-95a6-ca7652001315",
   "metadata": {},
   "outputs": [
    {
     "data": {
      "text/plain": [
       "galsim.JacobianWCS(-0.1813237293527408, -0.0846045658884356, 0.08459759819988825, -0.18130939375149208)"
      ]
     },
     "execution_count": 124,
     "metadata": {},
     "output_type": "execute_result"
    }
   ],
   "source": [
    "test"
   ]
  },
  {
   "cell_type": "code",
   "execution_count": 123,
   "id": "e95cef89-b251-409d-9bd9-42742e06b46a",
   "metadata": {},
   "outputs": [
    {
     "data": {
      "text/plain": [
       "-0.1813237293527408"
      ]
     },
     "execution_count": 123,
     "metadata": {},
     "output_type": "execute_result"
    }
   ],
   "source": [
    "test.dudx"
   ]
  },
  {
   "cell_type": "code",
   "execution_count": 126,
   "id": "20eab00d-1121-42d7-8767-2d013ed3dc99",
   "metadata": {},
   "outputs": [
    {
     "data": {
      "text/plain": [
       "(-3.953196863542207e-05, -1.9214153653961746e-05)"
      ]
     },
     "execution_count": 126,
     "metadata": {},
     "output_type": "execute_result"
    }
   ],
   "source": [
    "dxxi = test.dudx\n",
    "dyxi = test.dudy\n",
    "dxeta = test.dvdx\n",
    "dyeta = test.dvdy\n",
    "(dyeta - dxxi) / (dyeta + dxxi), -(dxeta + dyxi) / (dyeta + dxxi)"
   ]
  },
  {
   "cell_type": "code",
   "execution_count": null,
   "id": "4cf29068-3e8e-484c-84ec-3b751a4e56c0",
   "metadata": {},
   "outputs": [],
   "source": []
  }
 ],
 "metadata": {
  "kernelspec": {
   "display_name": "Python 3 (ipykernel)",
   "language": "python",
   "name": "python3"
  },
  "language_info": {
   "codemirror_mode": {
    "name": "ipython",
    "version": 3
   },
   "file_extension": ".py",
   "mimetype": "text/x-python",
   "name": "python",
   "nbconvert_exporter": "python",
   "pygments_lexer": "ipython3",
   "version": "3.9.13"
  }
 },
 "nbformat": 4,
 "nbformat_minor": 5
}
