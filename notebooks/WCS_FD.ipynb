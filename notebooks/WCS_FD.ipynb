{
 "cells": [
  {
   "cell_type": "code",
   "execution_count": 1,
   "id": "ab90feff-6cc9-4e6c-863c-92806e39c149",
   "metadata": {},
   "outputs": [],
   "source": [
    "%matplotlib inline\n",
    "%reload_ext autoreload\n",
    "%autoreload 2\n",
    "import os\n",
    "import galsim\n",
    "from galsim.angle import radians, arcsec, degrees, AngleUnit\n",
    "import numpy as np\n",
    "import matplotlib.pylab as plt\n",
    "import time\n",
    "import sys\n",
    "\n",
<<<<<<< HEAD
    "sys.path.append('/Users/andypark/Desktop/phd/batsim/src')\n",
    "import batsim.pltutil as batplot\n",
=======
    "sys.path.append('/Users/andypark/Desktop/phd/batsim')\n",
>>>>>>> d676b6b57b033122cf809bab3c01d5955a5d4690
    "\n",
    "from astropy import wcs\n",
    "from astropy.io import fits\n",
    "from astropy.wcs import WCS\n",
    "from astropy.utils.data import get_pkg_data_filename\n",
    "\n",
<<<<<<< HEAD
    "import fpfs\n",
    "\n",
=======
>>>>>>> d676b6b57b033122cf809bab3c01d5955a5d4690
    "import jax\n",
    "import jax.numpy as jnp\n",
    "jax.config.update(\"jax_enable_x64\", True)"
   ]
  },
  {
   "cell_type": "code",
   "execution_count": 2,
   "id": "ae719635-ab5d-443a-93b3-5305985712b4",
   "metadata": {},
   "outputs": [
    {
     "name": "stderr",
     "output_type": "stream",
     "text": [
<<<<<<< HEAD
      "WARNING: FITSFixedWarning: 'datfix' made the change 'Set DATE-OBS to '2025-12-08T01:04:57.498' from MJD-OBS'. [astropy.wcs.wcs]\n",
      "2023/10/20 13:45:16 ---  FITSFixedWarning: 'datfix' made the change 'Set DATE-OBS to '2025-12-08T01:04:57.498' from MJD-OBS'.\n"
=======
      "WARNING: FITSFixedWarning: 'datfix' made the change 'Set DATE-OBS to '2022-08-31T06:51:04.090' from MJD-OBS'. [astropy.wcs.wcs]\n"
>>>>>>> d676b6b57b033122cf809bab3c01d5955a5d4690
     ]
    }
   ],
   "source": [
<<<<<<< HEAD
    "wcsfile = \"./eimage_00449053-0-r-R03_S02-det020.fits\"\n",
=======
    "wcsfile = \"./eimage_00182850-0-i-R22_S11-det000.fits\"\n",
>>>>>>> d676b6b57b033122cf809bab3c01d5955a5d4690
    "f = fits.open(wcsfile)\n",
    "w = WCS(f[0].header)\n",
    "#w.wcs.cd *= 1. * arcsec / degrees\n",
    "#w.sip.a[1, 0] += 1.\n",
    "#w.sip.b[0, 1] += 1."
   ]
  },
  {
<<<<<<< HEAD
=======
   "cell_type": "code",
   "execution_count": 3,
   "id": "c9ec71f1-b0e2-401a-b441-bad53fc3b3cf",
   "metadata": {},
   "outputs": [],
   "source": [
    "def get_radec(params, w, deg=False):\n",
    "    params = jnp.asarray(params)\n",
    "    params = params.astype(jnp.float64)\n",
    "    u, v = get_uv(params, w)\n",
    "    # 4) turn u, v into ra, dec\n",
    "    cra, cdec = w.wcs.crval * degrees\n",
    "    cra = cra.rad\n",
    "    cdec = cdec.rad\n",
    "    #u = u * radians / degrees\n",
    "    #v = v * radians / degrees\n",
    "    rsq = u * u\n",
    "    rsq += v * v\n",
    "    cosc = sinc_over_r = 1./jnp.sqrt(1.+rsq)\n",
    "    sindec = v * sinc_over_r\n",
    "    sindec *= jnp.cos(cdec)\n",
    "    sindec += cosc * jnp.sin(cdec)\n",
    "    tandra_num = u * sinc_over_r\n",
    "    tandra_num *= -1.\n",
    "    tandra_denom = v * sinc_over_r\n",
    "    tandra_denom *= -jnp.sin(cdec)\n",
    "    tandra_denom += cosc * jnp.cos(cdec)\n",
    "    dec = jnp.arcsin(sindec)\n",
    "    ra = cra + jnp.arctan2(tandra_num, tandra_denom)\n",
    "    #center = galsim.CelestialCoord(w.wcs.crval[0] * degrees, w.wcs.crval[1] * degrees)\n",
    "    #ra, dec = center.deproject_rad(u, v, \"gnomonic\")\n",
    "    if deg:\n",
    "        return ra * 180. / jnp.pi, dec * 180. / jnp.pi\n",
    "    return ra, dec\n",
    "\n",
    "def get_uv(params, w):\n",
    "    params = jnp.asarray(params).astype(jnp.float32)\n",
    "    x, y = params\n",
    "    x -= w.wcs.crpix[0]\n",
    "    y -= w.wcs.crpix[1] \n",
    "\n",
    "    ab = np.array([w.sip.a, w.sip.b])\n",
    "    order = len(ab[0])-1\n",
    "    xpow = x ** jnp.arange(order+1)\n",
    "    ypow = y ** jnp.arange(order+1)\n",
    "    p1 = jnp.dot(jnp.dot(ab, ypow), xpow)\n",
    "    \n",
    "    x += p1[0]\n",
    "    y += p1[1]\n",
    "    \n",
    "    u, v = w.wcs.cd @ jnp.array([x, y])\n",
    "    factor = 1. * degrees / radians\n",
    "    u *= -factor\n",
    "    v *= factor\n",
    "    return u, v"
   ]
  },
  {
>>>>>>> d676b6b57b033122cf809bab3c01d5955a5d4690
   "cell_type": "markdown",
   "id": "d3cd25f8-75bf-4108-9ceb-5fcf813ab7a4",
   "metadata": {},
   "source": [
    "# Galsim"
   ]
  },
  {
   "cell_type": "code",
<<<<<<< HEAD
   "execution_count": 3,
=======
   "execution_count": 8,
>>>>>>> d676b6b57b033122cf809bab3c01d5955a5d4690
   "id": "e3412ee8-f9ea-45a3-8fa1-15c83b525775",
   "metadata": {},
   "outputs": [
    {
     "data": {
      "text/plain": [
<<<<<<< HEAD
       "(54.494749102342645, -33.899898366804834)"
      ]
     },
     "execution_count": 3,
=======
       "(51.793908983991834, -40.26485572360853)"
      ]
     },
     "execution_count": 8,
>>>>>>> d676b6b57b033122cf809bab3c01d5955a5d4690
     "metadata": {},
     "output_type": "execute_result"
    }
   ],
   "source": [
    "wcs_g = galsim.GSFitsWCS(wcsfile)\n",
    "skypos = wcs_g.toWorld(galsim.PositionI(0, 0))\n",
    "skypos.ra.deg, skypos.dec.deg"
   ]
  },
  {
<<<<<<< HEAD
=======
   "cell_type": "code",
   "execution_count": 10,
   "id": "b1139c05-29aa-4db8-aa03-a37f677daed8",
   "metadata": {},
   "outputs": [
    {
     "data": {
      "text/plain": [
       "(Array(1., dtype=float64), Array(1., dtype=float64))"
      ]
     },
     "execution_count": 10,
     "metadata": {},
     "output_type": "execute_result"
    }
   ],
   "source": [
    "my_skypos = get_radec((0, 0), w, deg=True)\n",
    "skypos.ra.deg / my_skypos[0], skypos.dec.deg / my_skypos[1]"
   ]
  },
  {
>>>>>>> d676b6b57b033122cf809bab3c01d5955a5d4690
   "cell_type": "markdown",
   "id": "8c8837bc-e4d0-4cfb-8ed5-0a16bf77cbed",
   "metadata": {},
   "source": [
    "# Manual?"
   ]
  },
  {
   "cell_type": "markdown",
   "id": "046a69cc-2cd7-4a52-8d13-d288e96f683e",
   "metadata": {},
   "source": [
    "Let $x, y$ be the relative pixel coordinates with origin at $\\mathrm{CRPIX1}$ and $\\mathrm{CRPIX2}$ and $u, v$ be the coordinates on the tangent plane of the celestial sphere\n",
    "$$\n",
    "\\begin{pmatrix}u \\\\ v\\end{pmatrix} = \\begin{pmatrix}\\mathrm{CD1\\_1} & \\mathrm{CD1\\_1} \\\\ \\mathrm{CD2\\_1} & \\mathrm{CD2\\_2}\\end{pmatrix}\\begin{pmatrix}x + f(x, y) \\\\ y + g(x, y)\\end{pmatrix}$$\n",
    "\n",
    "The distortion matrix can be written as\n",
    "$$\n",
    "\\begin{pmatrix}du \\\\ dv\\end{pmatrix} = \\begin{pmatrix}\\partial_x u & \\partial_y u \\\\ \\partial_x v & \\partial_y v\\end{pmatrix}\\begin{pmatrix}dx \\\\ dy\\end{pmatrix} = M\\begin{pmatrix}1 - g_1 & -g_2 + \\theta \\\\ -g_2-\\theta & 1+g_1\\end{pmatrix}\\begin{pmatrix}dx \\\\ dy\\end{pmatrix}$$\n",
    "\n",
    "and Field-Distortion Shear as\n",
    "$$g_1(\\mathrm{FD}) = (\\partial_y v - \\partial_x u) / (\\partial_y v + \\partial_x u)$$ and \n",
    "$$g_2(\\mathrm{FD}) = -(\\partial_x v - \\partial_y u) / (\\partial_y v + \\partial_x u)$$"
   ]
  },
  {
   "cell_type": "code",
<<<<<<< HEAD
   "execution_count": 4,
=======
   "execution_count": 198,
>>>>>>> d676b6b57b033122cf809bab3c01d5955a5d4690
   "id": "19df19f0-1666-43b6-aa65-83e6f259f92f",
   "metadata": {},
   "outputs": [],
   "source": [
    "def get_radec(params, w, deg=False):\n",
    "    params = jnp.asarray(params)\n",
    "    params = params.astype(jnp.float64)\n",
    "    u, v = get_uv(params, w)\n",
    "    # 4) turn u, v into ra, dec\n",
    "    cra, cdec = w.wcs.crval * degrees\n",
    "    cra = cra.rad\n",
    "    cdec = cdec.rad\n",
    "    #u = u * radians / degrees\n",
    "    #v = v * radians / degrees\n",
<<<<<<< HEAD
    "    #https://github.com/LSSTDESC/Coord/blob/fdb834dbb0d5fe8ef8da97ba54343aca94e7030f/coord/celestial.py#L738\n",
=======
>>>>>>> d676b6b57b033122cf809bab3c01d5955a5d4690
    "    rsq = u * u\n",
    "    rsq += v * v\n",
    "    cosc = sinc_over_r = 1./jnp.sqrt(1.+rsq)\n",
    "    sindec = v * sinc_over_r\n",
    "    sindec *= jnp.cos(cdec)\n",
    "    sindec += cosc * jnp.sin(cdec)\n",
    "    tandra_num = u * sinc_over_r\n",
    "    tandra_num *= -1.\n",
    "    tandra_denom = v * sinc_over_r\n",
    "    tandra_denom *= -jnp.sin(cdec)\n",
    "    tandra_denom += cosc * jnp.cos(cdec)\n",
    "    dec = jnp.arcsin(sindec)\n",
    "    ra = cra + jnp.arctan2(tandra_num, tandra_denom)\n",
    "    #center = galsim.CelestialCoord(w.wcs.crval[0] * degrees, w.wcs.crval[1] * degrees)\n",
    "    #ra, dec = center.deproject_rad(u, v, \"gnomonic\")\n",
    "    if deg:\n",
    "        return ra * 180. / jnp.pi, dec * 180. / jnp.pi\n",
    "    return ra, dec"
   ]
  },
  {
   "cell_type": "code",
<<<<<<< HEAD
   "execution_count": 5,
=======
   "execution_count": 199,
>>>>>>> d676b6b57b033122cf809bab3c01d5955a5d4690
   "id": "d7f4219e-cad8-4884-aa29-fd91c51802fb",
   "metadata": {},
   "outputs": [],
   "source": [
    "def get_uv(params, w):\n",
    "    params = jnp.asarray(params).astype(jnp.float32)\n",
    "    x, y = params\n",
    "    x -= w.wcs.crpix[0]\n",
    "    y -= w.wcs.crpix[1] \n",
    "\n",
    "    ab = np.array([w.sip.a, w.sip.b])\n",
    "    order = len(ab[0])-1\n",
    "    xpow = x ** jnp.arange(order+1)\n",
    "    ypow = y ** jnp.arange(order+1)\n",
    "    p1 = jnp.dot(jnp.dot(ab, ypow), xpow)\n",
    "    \n",
    "    x += p1[0]\n",
    "    y += p1[1]\n",
    "    \n",
    "    u, v = w.wcs.cd @ jnp.array([x, y])\n",
    "    factor = 1. * degrees / radians\n",
    "    u *= -factor\n",
    "    v *= factor\n",
<<<<<<< HEAD
    "    \n",
    "    return jnp.array([u, v])\n",
    "    #return u, v"
   ]
  },
  {
   "cell_type": "markdown",
   "id": "b8e8f3a0-2c05-4072-b75c-eda3bee76253",
   "metadata": {},
   "source": [
    "# To get the field distortion shear field from the wcs"
=======
    "    return u, v"
>>>>>>> d676b6b57b033122cf809bab3c01d5955a5d4690
   ]
  },
  {
   "cell_type": "code",
<<<<<<< HEAD
   "execution_count": 6,
   "id": "ee60c262-559f-44d2-9d30-a6973865cd1b",
   "metadata": {},
   "outputs": [],
   "source": [
    "if not os.path.exists(\"./g1_fd.fits\") and not os.path.exists(\"./g2_fd.fits\"):\n",
    "    jac = np.vectorize(wcs_g.local)\n",
    "    pos = np.array([galsim.PositionI(i, j) for i in range(4072) for j in range(4000)])\n",
    "    jac_pos = jac(pos)\n",
    "    \n",
    "    def get_shear(jac):\n",
    "        g1_fd = (jac.dvdy - jac.dudx) / (jac.dvdy + jac.dudx)\n",
    "        g2_fd = -(jac.dvdx + jac.dudy) / (jac.dvdy + jac.dudx)\n",
    "        return g1_fd, g2_fd\n",
    "        \n",
    "    g1_fd, g2_fd = np.vectorize(get_shear)(jac_pos)\n",
    "else:\n",
    "    g1_fd = fits.open(\"./g1_fd.fits\")[0].data\n",
    "    g2_fd = fits.open(\"./g2_fd.fits\")[0].data"
=======
   "execution_count": 215,
   "id": "bac442b8-e509-47f9-ac31-8c13d60fc1df",
   "metadata": {},
   "outputs": [],
   "source": [
    "shape = (64, 64)\n",
    "indx = np.arange(shape[0], dtype=float)\n",
    "indy = np.arange(shape[1], dtype=float)\n",
    "inds = np.meshgrid(indy, indx, indexing=\"ij\")\n",
    "coords = jnp.vstack([np.ravel(_) for _ in inds[::-1]]).T"
>>>>>>> d676b6b57b033122cf809bab3c01d5955a5d4690
   ]
  },
  {
   "cell_type": "code",
<<<<<<< HEAD
   "execution_count": 7,
   "id": "d543b9d2-dc1d-4a25-aa43-68bc4d8914e1",
   "metadata": {},
   "outputs": [
    {
     "data": {
      "text/plain": [
       "<matplotlib.colorbar.Colorbar at 0x12f5d3130>"
      ]
     },
     "execution_count": 7,
     "metadata": {},
     "output_type": "execute_result"
    },
    {
     "data": {
      "image/png": "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",
      "text/plain": [
       "<Figure size 640x480 with 3 Axes>"
      ]
     },
     "metadata": {},
     "output_type": "display_data"
    }
   ],
   "source": [
    "fig, axes = plt.subplots(nrows=1, ncols=2)\n",
    "g_fd = np.array([g1_fd, g2_fd])\n",
    "for i, ax in enumerate(axes.flat):\n",
    "    im = ax.imshow(g_fd[i], origin='lower')\n",
    "    ax.axis(False)\n",
    "    ax.set_title(f\"g{i+1}\")\n",
    "\n",
    "fig.colorbar(im, ax=axes.ravel().tolist())"
=======
   "execution_count": 216,
   "id": "cef11cc4-8746-4e4e-b9d4-10121359081b",
   "metadata": {},
   "outputs": [],
   "source": [
    "dget_uv = jax.vmap(jax.jacfwd(get_radec, 0), in_axes=[0, None])(coords, w)"
>>>>>>> d676b6b57b033122cf809bab3c01d5955a5d4690
   ]
  },
  {
   "cell_type": "code",
<<<<<<< HEAD
   "execution_count": 8,
   "id": "6637b674-cc2c-4838-a82d-2f141270458b",
=======
   "execution_count": 217,
   "id": "84e167b1-67b6-4d17-be47-f100e2a99287",
   "metadata": {},
   "outputs": [],
   "source": [
    "du_dxy, dv_dxy = dget_uv\n",
    "du_dx, du_dy = du_dxy.T\n",
    "dv_dx, dv_dy = dv_dxy.T\n",
    "g1_fd = (dv_dy - du_dx) / (dv_dy + du_dx)\n",
    "g1_fd = np.reshape(g1_fd, shape)\n",
    "g2_fd = -(dv_dx + du_dy) / (dv_dy + du_dx)\n",
    "g2_fd = np.reshape(g2_fd, shape)"
   ]
  },
  {
   "cell_type": "code",
   "execution_count": 218,
   "id": "3868fc64-a4d1-45ec-a6a5-85ecbfcd81f3",
>>>>>>> d676b6b57b033122cf809bab3c01d5955a5d4690
   "metadata": {},
   "outputs": [
    {
     "data": {
      "text/plain": [
<<<<<<< HEAD
       "<matplotlib.image.AxesImage at 0x12f6e8430>"
      ]
     },
     "execution_count": 8,
=======
       "Text(0.5, 0, 'g')"
      ]
     },
     "execution_count": 218,
>>>>>>> d676b6b57b033122cf809bab3c01d5955a5d4690
     "metadata": {},
     "output_type": "execute_result"
    },
    {
     "data": {
<<<<<<< HEAD
      "image/png": "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",
=======
      "image/png": "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",
>>>>>>> d676b6b57b033122cf809bab3c01d5955a5d4690
      "text/plain": [
       "<Figure size 640x480 with 1 Axes>"
      ]
     },
     "metadata": {},
     "output_type": "display_data"
    }
   ],
   "source": [
<<<<<<< HEAD
    "sersic_gal = galsim.Sersic(n=0.5, half_light_radius=1.4, flux=40)\n",
    "img = sersic_gal.drawImage(nx=64, ny=64, wcs=wcs_g, center=(32, 32), method=\"sb\")\n",
    "plt.imshow(img.array)"
=======
    "plt.hist(np.sqrt(g1_fd ** 2 + g2_fd ** 2).flatten())\n",
    "plt.xlabel('g')"
>>>>>>> d676b6b57b033122cf809bab3c01d5955a5d4690
   ]
  },
  {
   "cell_type": "code",
<<<<<<< HEAD
   "execution_count": 9,
   "id": "602cd007-d3ad-43b4-98c7-527d1c2a4ac4",
   "metadata": {},
   "outputs": [
    {
     "name": "stderr",
     "output_type": "stream",
     "text": [
      "2023/10/20 13:45:17 ---  Unable to initialize backend 'cuda': module 'jaxlib.xla_extension' has no attribute 'GpuAllocatorConfig'\n",
      "2023/10/20 13:45:17 ---  Unable to initialize backend 'rocm': module 'jaxlib.xla_extension' has no attribute 'GpuAllocatorConfig'\n",
      "2023/10/20 13:45:17 ---  Unable to initialize backend 'tpu': INTERNAL: Failed to open libtpu.so: dlopen(libtpu.so, 0x0001): tried: 'libtpu.so' (no such file), '/System/Volumes/Preboot/Cryptexes/OSlibtpu.so' (no such file), '/Users/andypark/miniconda3/envs/batsim/bin/../lib/libtpu.so' (no such file), '/usr/lib/libtpu.so' (no such file, not in dyld cache), 'libtpu.so' (no such file), '/usr/local/lib/libtpu.so' (no such file), '/usr/lib/libtpu.so' (no such file, not in dyld cache)\n",
      "2023/10/20 13:45:17 ---  Order of the shear estimator: nnord=4\n",
      "2023/10/20 13:45:17 ---  Shapelet kernel in configuration space: sigma= 0.5300 arcsec\n",
      "2023/10/20 13:45:17 ---  Detection kernel in configuration space: sigma= 0.5300 arcsec\n"
     ]
    },
    {
     "name": "stdout",
     "output_type": "stream",
     "text": [
      "measured shear1: -0.0008989\n",
      "measured shear2: -0.0010856\n"
     ]
    }
   ],
   "source": [
    "nn = 64\n",
    "shape = (nn, nn)\n",
    "scale = 0.2\n",
    "psf_array = np.zeros(shape)\n",
    "psf_array[nn // 2, nn // 2] = 1\n",
    "center_xy = np.array([nn//2+1, nn//2+1])\n",
    "\n",
    "fpTask  =   fpfs.image.measure_source(psf_array, pix_scale = scale, sigma_arcsec=0.53)\n",
    "mms =  fpTask.measure(img.array, center_xy)\n",
    "mms = fpTask.get_results(mms)\n",
    "ells=   fpfs.catalog.fpfs_m2e(mms,const=20)\n",
    "resp1=np.average(ells['fpfs_R1E'])\n",
    "shear1=np.average(ells['fpfs_e1'])/resp1\n",
    "resp2=np.average(ells['fpfs_R2E'])\n",
    "shear2=np.average(ells['fpfs_e2'])/resp2\n",
    "\n",
    "print(\"measured shear1: %.7f\" % shear1)\n",
    "print(\"measured shear2: %.7f\" % shear2)"
   ]
  },
  {
   "cell_type": "code",
   "execution_count": 10,
   "id": "188e5bfa-50fa-4de8-8fe0-2a6c360fd133",
=======
   "execution_count": 219,
   "id": "750f2878-d5aa-4857-bc7d-5a3860db82d4",
>>>>>>> d676b6b57b033122cf809bab3c01d5955a5d4690
   "metadata": {},
   "outputs": [
    {
     "data": {
      "text/plain": [
<<<<<<< HEAD
       "(-0.0013430572112116033, -0.0007178825540912163)"
      ]
     },
     "execution_count": 10,
     "metadata": {},
     "output_type": "execute_result"
    }
   ],
   "source": [
    "# Field distortion at the center of galaxy\n",
    "g1_fd[32, 32], g2_fd[32, 32]"
=======
       "Text(0.5, 1.0, 'g2')"
      ]
     },
     "execution_count": 219,
     "metadata": {},
     "output_type": "execute_result"
    },
    {
     "data": {
      "image/png": "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",
      "text/plain": [
       "<Figure size 640x480 with 2 Axes>"
      ]
     },
     "metadata": {},
     "output_type": "display_data"
    }
   ],
   "source": [
    "plt.imshow(g2_fd)\n",
    "plt.colorbar()\n",
    "plt.title('g2')"
   ]
  },
  {
   "cell_type": "code",
   "execution_count": 220,
   "id": "b4804f78-4ff1-43aa-b51f-6d71a973c091",
   "metadata": {},
   "outputs": [
    {
     "data": {
      "text/plain": [
       "Text(0.5, 1.0, 'g1')"
      ]
     },
     "execution_count": 220,
     "metadata": {},
     "output_type": "execute_result"
    },
    {
     "data": {
      "image/png": "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",
      "text/plain": [
       "<Figure size 640x480 with 2 Axes>"
      ]
     },
     "metadata": {},
     "output_type": "display_data"
    }
   ],
   "source": [
    "plt.imshow(g1_fd)\n",
    "plt.colorbar()\n",
    "plt.title('g1')"
>>>>>>> d676b6b57b033122cf809bab3c01d5955a5d4690
   ]
  },
  {
   "cell_type": "markdown",
   "id": "0dd18889-d12d-4c4c-9d3d-fb06d18d1d1f",
   "metadata": {},
   "source": [
    "f = fits.open('./eimage_00182850-0-i-R22_S11-det000.fits')\n",
    "w = WCS(f[0].header)\n",
    "\n",
    "x, y = 0, 0\n",
    "\n",
    "# 1) subtract off CRPIX\n",
    "x -= w.wcs.crpix[0]\n",
    "y -= w.wcs.crpix[1] \n",
    "\n",
    "# 2) SIP\n",
    "w.sip.a[1, 0] += 1\n",
    "w.sip.b[0, 1] += 1\n",
    "f = 0\n",
    "df_dx = 0\n",
    "for p in range(w.sip.a_order+1):\n",
    "    for q in range(w.sip.a_order+1):\n",
    "        f += w.sip.a[p, q] * jnp.power(x, p) * jnp.power(y, q)\n",
    "        df_dx += p * w.sip.a[p, q] * jnp.power(x, p-1) * jnp.power(y, q)\n",
    "        \n",
    "g = 0\n",
    "dg_dx = 0\n",
    "for p in range(w.sip.a_order+1):\n",
    "    for q in range(w.sip.a_order+1):\n",
    "        g += w.sip.b[p, q] * jnp.power(x, p) * jnp.power(y, q)\n",
    "        dg_dx += p * w.sip.b[p, q] * jnp.power(x, p-1) * jnp.power(y, q)\n",
    "\n",
    "x += f\n",
    "y += g\n",
    "\n",
    "# 3) Apply CD\n",
    "u, v = w.wcs.cd @ np.array([x, y])\n",
    "print(u, v)\n",
    "factor = 1. * degrees / radians\n",
    "u *= -factor\n",
    "v *= factor\n",
    "\n",
    "# 4) turn u, v into ra, dec\n",
    "center = galsim.CelestialCoord(w.wcs.crval[0] * degrees, w.wcs.crval[1] * degrees)\n",
    "ra, dec = center.deproject_rad(u, v, \"gnomonic\")\n",
    "ra *= radians / degrees"
   ]
<<<<<<< HEAD
=======
  },
  {
   "cell_type": "code",
   "execution_count": 44,
   "id": "a131b854-cfdf-40a3-a447-152ee5a69c3f",
   "metadata": {},
   "outputs": [
    {
     "data": {
      "text/plain": [
       "(4, 4)"
      ]
     },
     "execution_count": 44,
     "metadata": {},
     "output_type": "execute_result"
    }
   ],
   "source": [
    "w.sip.a.shape"
   ]
  },
  {
   "cell_type": "code",
   "execution_count": 67,
   "id": "a2344d3a-2df3-4ed8-9709-419d2df0d449",
   "metadata": {},
   "outputs": [],
   "source": [
    "ab = np.array([w.sip.a, w.sip.b])"
   ]
  },
  {
   "cell_type": "code",
   "execution_count": 69,
   "id": "e0781895-7c5d-4d1b-9a57-b4c4e75a935d",
   "metadata": {},
   "outputs": [
    {
     "data": {
      "text/plain": [
       "(2, 4, 4)"
      ]
     },
     "execution_count": 69,
     "metadata": {},
     "output_type": "execute_result"
    }
   ],
   "source": [
    "ab.shape"
   ]
  },
  {
   "cell_type": "code",
   "execution_count": 70,
   "id": "ca17f932-5f05-41c6-8932-61731834be89",
   "metadata": {},
   "outputs": [],
   "source": [
    "x, y = 3, 10\n",
    "order = len(w.sip.a[0])-1\n",
    "xpow = x ** np.arange(order+1)\n",
    "ypow = y ** np.arange(order+1)\n",
    "p1 = np.dot(np.dot(ab, ypow), xpow)"
   ]
  },
  {
   "cell_type": "code",
   "execution_count": 77,
   "id": "209b9000-855d-4ffd-871d-5ea6b66b4e03",
   "metadata": {},
   "outputs": [],
   "source": [
    "jac = np.diag([1, 1])"
   ]
  },
  {
   "cell_type": "code",
   "execution_count": 79,
   "id": "754c6070-b9ab-4b28-a090-09e4f103981c",
   "metadata": {},
   "outputs": [],
   "source": [
    "dxpow = np.zeros(order+1)\n",
    "dypow = np.zeros(order+1)\n",
    "dxpow[1:] = (np.arange(order)+1.) * xpow[:-1]\n",
    "dypow[1:] = (np.arange(order)+1.) * ypow[:-1]\n",
    "j1 = np.transpose([np.dot(np.dot(ab, ypow), dxpow),\n",
    "                   np.dot(np.dot(ab, xpow), dypow)])\n",
    "jac = np.dot(j1, jac)"
   ]
  },
  {
   "cell_type": "code",
   "execution_count": 81,
   "id": "518120e4-5490-4d9d-9966-36194b7e8833",
   "metadata": {},
   "outputs": [],
   "source": [
    "p2 = np.dot(w.wcs.cd, p1)\n",
    "jac = np.dot(w.wcs.cd, jac)"
   ]
  },
  {
   "cell_type": "code",
   "execution_count": 85,
   "id": "f7b69a08-5201-4979-88ec-8ed62bd31556",
   "metadata": {},
   "outputs": [],
   "source": [
    "unit_covert = [-1 * degrees / radians, 1 * degrees / radians]\n",
    "p2 *= unit_covert"
   ]
  },
  {
   "cell_type": "code",
   "execution_count": 87,
   "id": "67807f57-396e-4f4d-9313-3f408973ac04",
   "metadata": {},
   "outputs": [],
   "source": [
    "jac = jac * np.transpose([unit_covert])"
   ]
  },
  {
   "cell_type": "code",
   "execution_count": 98,
   "id": "cd2ce99d-1ed0-4641-b347-77fe29cfc64a",
   "metadata": {},
   "outputs": [],
   "source": [
    "cra, cdec = w.wcs.crval\n",
    "cra = cra * np.pi / 180\n",
    "cdec = cdec * np.pi / 180\n",
    "\n",
    "def jac_deproject(u, v):\n",
    "    rsq = u*u + v*v\n",
    "    rsq1 = (u+1.e-4)**2 + v**2\n",
    "    rsq2 = u**2 + (v+1.e-4)**2\n",
    "    c = s = 1./np.sqrt(1.+rsq)\n",
    "    s3 = s*s*s\n",
    "    dcdu = dsdu = -u*s3\n",
    "    dcdv = dsdv = -v*s3\n",
    "    s0 = np.sin(cdec)\n",
    "    c0 = np.cos(cdec)\n",
    "    sindec = c * s0 + v * s * c0\n",
    "    cosdec = np.sqrt(1.-sindec*sindec)\n",
    "    dddu = ( s0 * dcdu + v * dsdu * c0 ) / cosdec\n",
    "    dddv = ( s0 * dcdv + (v * dsdv + s) * c0 ) / cosdec\n",
    "\n",
    "    tandra_num = u * s\n",
    "    tandra_denom = c * c0 - v * s * s0\n",
    "    \n",
    "    A2sec2dra = tandra_denom**2 + tandra_num**2\n",
    "    drdu = ((u * dsdu + s) * tandra_denom - u * s * ( dcdu * c0 - v * dsdu * s0 ))/A2sec2dra\n",
    "    drdv = (u * dsdv * tandra_denom - u * s * ( dcdv * c0 - (v * dsdv + s) * s0 ))/A2sec2dra\n",
    "\n",
    "    drdu *= cosdec\n",
    "    drdv *= cosdec\n",
    "    return np.array([[drdu, drdv], [dddu, dddv]])\n",
    "\n",
    "j2 = jac_deproject(p2[0], p2[1])\n",
    "jac = np.dot(j2, jac)\n",
    "\n",
    "jac *= radians / arcsec\n"
   ]
  },
  {
   "cell_type": "code",
   "execution_count": 128,
   "id": "1bc82fa6-018f-4c84-ad7b-397e6edc4a38",
   "metadata": {},
   "outputs": [
    {
     "data": {
      "text/plain": [
       "(array([[-0.18113955, -0.18113955],\n",
       "        [ 0.08500092,  0.08500092]]),\n",
       " galsim.JacobianWCS(-0.1813237293527408, -0.0846045658884356, 0.08459759819988825, -0.18130939375149208))"
      ]
     },
     "execution_count": 128,
     "metadata": {},
     "output_type": "execute_result"
    }
   ],
   "source": [
    "jac, test"
   ]
  },
  {
   "cell_type": "code",
   "execution_count": 100,
   "id": "5f0f0674-eac9-4147-a5a9-227868fc9e96",
   "metadata": {},
   "outputs": [],
   "source": [
    "dxxi = jac[0, 0]\n",
    "dyxi = jac[0, 1]\n",
    "dxeta = jac[1, 0]\n",
    "dyeta = jac[1, 1]"
   ]
  },
  {
   "cell_type": "code",
   "execution_count": 101,
   "id": "754374f6-3aab-4a4d-a5bc-d8e1de6d85cf",
   "metadata": {},
   "outputs": [
    {
     "data": {
      "text/plain": [
       "-2.768299052331508"
      ]
     },
     "execution_count": 101,
     "metadata": {},
     "output_type": "execute_result"
    }
   ],
   "source": [
    "(dyeta - dxxi) / (dyeta + dxxi)"
   ]
  },
  {
   "cell_type": "code",
   "execution_count": 102,
   "id": "55350bb9-65d5-46a6-bfa1-5dd772d7c0f0",
   "metadata": {},
   "outputs": [
    {
     "data": {
      "text/plain": [
       "-1.0000000061155512"
      ]
     },
     "execution_count": 102,
     "metadata": {},
     "output_type": "execute_result"
    }
   ],
   "source": [
    "-(dxeta + dyxi) / (dyeta + dxxi)"
   ]
  },
  {
   "cell_type": "code",
   "execution_count": 107,
   "id": "36b9c38e-3d64-4561-b360-eb677788d708",
   "metadata": {},
   "outputs": [],
   "source": [
    "center = galsim.CelestialCoord(w.wcs.crval[0] * degrees, w.wcs.crval[1] * degrees)"
   ]
  },
  {
   "cell_type": "code",
   "execution_count": 112,
   "id": "ba2d4c71-151d-4418-bf05-c68897ed7367",
   "metadata": {},
   "outputs": [
    {
     "data": {
      "text/plain": [
       "array([[-0.18113955, -0.18113955],\n",
       "       [ 0.08500092,  0.08500092]])"
      ]
     },
     "execution_count": 112,
     "metadata": {},
     "output_type": "execute_result"
    }
   ],
   "source": [
    "jac"
   ]
  },
  {
   "cell_type": "code",
   "execution_count": 113,
   "id": "76eb1461-0f59-49a5-bc58-0191a8c988fb",
   "metadata": {},
   "outputs": [],
   "source": [
    "j2 = jac_deproject(p2[0], p2[1])"
   ]
  },
  {
   "cell_type": "code",
   "execution_count": 111,
   "id": "dd47774d-6613-4f86-b563-2f797c8cdff5",
   "metadata": {},
   "outputs": [
    {
     "data": {
      "text/plain": [
       "array([[ 1.00000000e+00,  5.73305056e-06],\n",
       "       [-5.73310153e-06,  1.00000000e+00]])"
      ]
     },
     "execution_count": 111,
     "metadata": {},
     "output_type": "execute_result"
    }
   ],
   "source": [
    "center.jac_deproject_rad(p2[0], p2[1])"
   ]
  },
  {
   "cell_type": "code",
   "execution_count": 119,
   "id": "f6e91024-1386-4177-9a0f-343b62483212",
   "metadata": {},
   "outputs": [],
   "source": [
    "test = wcs_g._local(galsim.PositionI(3, 3))"
   ]
  },
  {
   "cell_type": "code",
   "execution_count": 124,
   "id": "16822924-9bf5-4040-95a6-ca7652001315",
   "metadata": {},
   "outputs": [
    {
     "data": {
      "text/plain": [
       "galsim.JacobianWCS(-0.1813237293527408, -0.0846045658884356, 0.08459759819988825, -0.18130939375149208)"
      ]
     },
     "execution_count": 124,
     "metadata": {},
     "output_type": "execute_result"
    }
   ],
   "source": [
    "test"
   ]
  },
  {
   "cell_type": "code",
   "execution_count": 123,
   "id": "e95cef89-b251-409d-9bd9-42742e06b46a",
   "metadata": {},
   "outputs": [
    {
     "data": {
      "text/plain": [
       "-0.1813237293527408"
      ]
     },
     "execution_count": 123,
     "metadata": {},
     "output_type": "execute_result"
    }
   ],
   "source": [
    "test.dudx"
   ]
  },
  {
   "cell_type": "code",
   "execution_count": 126,
   "id": "20eab00d-1121-42d7-8767-2d013ed3dc99",
   "metadata": {},
   "outputs": [
    {
     "data": {
      "text/plain": [
       "(-3.953196863542207e-05, -1.9214153653961746e-05)"
      ]
     },
     "execution_count": 126,
     "metadata": {},
     "output_type": "execute_result"
    }
   ],
   "source": [
    "dxxi = test.dudx\n",
    "dyxi = test.dudy\n",
    "dxeta = test.dvdx\n",
    "dyeta = test.dvdy\n",
    "(dyeta - dxxi) / (dyeta + dxxi), -(dxeta + dyxi) / (dyeta + dxxi)"
   ]
  },
  {
   "cell_type": "code",
   "execution_count": null,
   "id": "4cf29068-3e8e-484c-84ec-3b751a4e56c0",
   "metadata": {},
   "outputs": [],
   "source": []
>>>>>>> d676b6b57b033122cf809bab3c01d5955a5d4690
  }
 ],
 "metadata": {
  "kernelspec": {
   "display_name": "Python 3 (ipykernel)",
   "language": "python",
   "name": "python3"
  },
  "language_info": {
   "codemirror_mode": {
    "name": "ipython",
    "version": 3
   },
   "file_extension": ".py",
   "mimetype": "text/x-python",
   "name": "python",
   "nbconvert_exporter": "python",
   "pygments_lexer": "ipython3",
<<<<<<< HEAD
   "version": "3.9.18"
=======
   "version": "3.9.13"
>>>>>>> d676b6b57b033122cf809bab3c01d5955a5d4690
  }
 },
 "nbformat": 4,
 "nbformat_minor": 5
}
