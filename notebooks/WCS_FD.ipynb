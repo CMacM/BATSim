{
 "cells": [
  {
   "cell_type": "code",
   "execution_count": 1,
   "id": "98de6e86-c955-4c33-9058-a2627b859488",
   "metadata": {},
   "outputs": [],
   "source": [
    "%matplotlib inline\n",
    "%reload_ext autoreload\n",
    "%autoreload 2\n",
    "import os\n",
    "import galsim\n",
    "from galsim.angle import radians, arcsec, degrees, AngleUnit\n",
    "import numpy as np\n",
    "import matplotlib.pylab as plt\n",
    "import time\n",
    "import sys\n",
    "\n",
    "sys.path.append('/Users/andypark/Desktop/phd/batsim/src')\n",
    "import batsim.pltutil as batplot\n",
    "\n",
    "from astropy import wcs\n",
    "from astropy.io import fits\n",
    "from astropy.wcs import WCS\n",
    "from astropy.utils.data import get_pkg_data_filename\n",
    "\n",
    "import fpfs\n",
    "\n",
    "import jax\n",
    "import jax.numpy as jnp\n",
    "jax.config.update(\"jax_enable_x64\", True)"
   ]
  },
  {
   "cell_type": "code",
   "execution_count": 2,
   "id": "11d62bab-dc41-4a74-adaf-ee2ebfde8417",
   "metadata": {},
   "outputs": [
    {
     "name": "stderr",
     "output_type": "stream",
     "text": [
      "WARNING: FITSFixedWarning: 'datfix' made the change 'Set DATE-OBS to '2025-12-08T01:04:57.498' from MJD-OBS'. [astropy.wcs.wcs]\n",
      "2023/10/20 14:11:37 ---  FITSFixedWarning: 'datfix' made the change 'Set DATE-OBS to '2025-12-08T01:04:57.498' from MJD-OBS'.\n"
     ]
    }
   ],
   "source": [
    "wcsfile = \"./eimage_00449053-0-r-R03_S02-det020.fits\"\n",
    "f = fits.open(wcsfile)\n",
    "w = WCS(f[0].header)\n",
    "#w.wcs.cd *= 1. * arcsec / degrees\n",
    "#w.sip.a[1, 0] += 1.\n",
    "#w.sip.b[0, 1] += 1."
   ]
  },
  {
   "cell_type": "code",
   "execution_count": 3,
   "id": "3d854779-5271-4644-8ca5-b747a0c6460b",
   "metadata": {},
   "outputs": [
    {
     "data": {
      "text/plain": [
       "(54.494749102342645, -33.899898366804834)"
      ]
     },
     "execution_count": 3,
     "metadata": {},
     "output_type": "execute_result"
    }
   ],
   "source": [
    "wcs_g = galsim.GSFitsWCS(wcsfile)\n",
    "skypos = wcs_g.toWorld(galsim.PositionI(0, 0))\n",
    "skypos.ra.deg, skypos.dec.deg"
   ]
  },
  {
   "cell_type": "markdown",
   "id": "e82367c0-40da-4ccd-9cf3-7a7255ae619c",
   "metadata": {},
   "source": [
    "Let $x, y$ be the relative pixel coordinates with origin at $\\mathrm{CRPIX1}$ and $\\mathrm{CRPIX2}$ and $u, v$ be the coordinates on the tangent plane of the celestial sphere\n",
    "$$\n",
    "\\begin{pmatrix}u \\\\ v\\end{pmatrix} = \\begin{pmatrix}\\mathrm{CD1\\_1} & \\mathrm{CD1\\_1} \\\\ \\mathrm{CD2\\_1} & \\mathrm{CD2\\_2}\\end{pmatrix}\\begin{pmatrix}x + f(x, y) \\\\ y + g(x, y)\\end{pmatrix}$$\n",
    "\n",
    "The distortion matrix can be written as\n",
    "$$\n",
    "\\begin{pmatrix}du \\\\ dv\\end{pmatrix} = \\begin{pmatrix}\\partial_x u & \\partial_y u \\\\ \\partial_x v & \\partial_y v\\end{pmatrix}\\begin{pmatrix}dx \\\\ dy\\end{pmatrix} = M\\begin{pmatrix}1 - g_1 & -g_2 + \\theta \\\\ -g_2-\\theta & 1+g_1\\end{pmatrix}\\begin{pmatrix}dx \\\\ dy\\end{pmatrix}$$\n",
    "\n",
    "and Field-Distortion Shear as\n",
    "$$g_1(\\mathrm{FD}) = (\\partial_y v - \\partial_x u) / (\\partial_y v + \\partial_x u)$$ and \n",
    "$$g_2(\\mathrm{FD}) = -(\\partial_x v - \\partial_y u) / (\\partial_y v + \\partial_x u)$$"
   ]
  },
  {
   "cell_type": "code",
   "execution_count": 4,
   "id": "578bea7c-a621-4372-abde-dc7c021c9ba2",
   "metadata": {},
   "outputs": [],
   "source": [
    "def get_radec(params, w, deg=False):\n",
    "    params = jnp.asarray(params)\n",
    "    params = params.astype(jnp.float64)\n",
    "    u, v = get_uv(params, w)\n",
    "    # 4) turn u, v into ra, dec\n",
    "    cra, cdec = w.wcs.crval * degrees\n",
    "    cra = cra.rad\n",
    "    cdec = cdec.rad\n",
    "    #u = u * radians / degrees\n",
    "    #v = v * radians / degrees\n",
    "    #https://github.com/LSSTDESC/Coord/blob/fdb834dbb0d5fe8ef8da97ba54343aca94e7030f/coord/celestial.py#L738\n",
    "    rsq = u * u\n",
    "    rsq += v * v\n",
    "    cosc = sinc_over_r = 1./jnp.sqrt(1.+rsq)\n",
    "    sindec = v * sinc_over_r\n",
    "    sindec *= jnp.cos(cdec)\n",
    "    sindec += cosc * jnp.sin(cdec)\n",
    "    tandra_num = u * sinc_over_r\n",
    "    tandra_num *= -1.\n",
    "    tandra_denom = v * sinc_over_r\n",
    "    tandra_denom *= -jnp.sin(cdec)\n",
    "    tandra_denom += cosc * jnp.cos(cdec)\n",
    "    dec = jnp.arcsin(sindec)\n",
    "    ra = cra + jnp.arctan2(tandra_num, tandra_denom)\n",
    "    #center = galsim.CelestialCoord(w.wcs.crval[0] * degrees, w.wcs.crval[1] * degrees)\n",
    "    #ra, dec = center.deproject_rad(u, v, \"gnomonic\")\n",
    "    if deg:\n",
    "        return ra * 180. / jnp.pi, dec * 180. / jnp.pi\n",
    "    return ra, dec"
   ]
  },
  {
   "cell_type": "code",
   "execution_count": 5,
   "id": "ec96ad44-1bec-4cbb-9d27-599b1c659597",
   "metadata": {},
   "outputs": [],
   "source": [
    "def get_uv(params, w):\n",
    "    params = jnp.asarray(params).astype(jnp.float32)\n",
    "    x, y = params\n",
    "    x -= w.wcs.crpix[0]\n",
    "    y -= w.wcs.crpix[1] \n",
    "\n",
    "    ab = np.array([w.sip.a, w.sip.b])\n",
    "    order = len(ab[0])-1\n",
    "    xpow = x ** jnp.arange(order+1)\n",
    "    ypow = y ** jnp.arange(order+1)\n",
    "    p1 = jnp.dot(jnp.dot(ab, ypow), xpow)\n",
    "    \n",
    "    x += p1[0]\n",
    "    y += p1[1]\n",
    "    \n",
    "    u, v = w.wcs.cd @ jnp.array([x, y])\n",
    "    factor = 1. * degrees / radians\n",
    "    u *= -factor\n",
    "    v *= factor\n",
    "    \n",
    "    return jnp.array([u, v])\n",
    "    #return u, v"
   ]
  },
  {
   "cell_type": "code",
   "execution_count": 6,
   "id": "690fdfbb-e655-4cb6-a2ad-cdc35e23edd4",
   "metadata": {},
   "outputs": [],
   "source": [
    "# To get the field distortion shear field from the wcs\n",
    "if not os.path.exists(\"./g1_fd.fits\") and not os.path.exists(\"./g2_fd.fits\"):\n",
    "    jac = np.vectorize(wcs_g.local)\n",
    "    pos = np.array([galsim.PositionI(i, j) for i in range(4072) for j in range(4000)])\n",
    "    jac_pos = jac(pos)\n",
    "    \n",
    "    def get_shear(jac):\n",
    "        g1_fd = (jac.dvdy - jac.dudx) / (jac.dvdy + jac.dudx)\n",
    "        g2_fd = -(jac.dvdx + jac.dudy) / (jac.dvdy + jac.dudx)\n",
    "        return g1_fd, g2_fd\n",
    "        \n",
    "    g1_fd, g2_fd = np.vectorize(get_shear)(jac_pos)\n",
    "else:\n",
    "    g1_fd = fits.open(\"./g1_fd.fits\")[0].data\n",
    "    g2_fd = fits.open(\"./g2_fd.fits\")[0].data"
   ]
  },
  {
   "cell_type": "code",
   "execution_count": 7,
   "id": "dd747fef-939a-4fa9-870e-a901a3144b54",
   "metadata": {},
   "outputs": [
    {
     "data": {
      "text/plain": [
       "<matplotlib.colorbar.Colorbar at 0x1060c77c0>"
      ]
     },
     "execution_count": 7,
     "metadata": {},
     "output_type": "execute_result"
    },
    {
     "data": {
      "image/png": "[encoded data removed]",
      "text/plain": [
       "<Figure size 640x480 with 3 Axes>"
      ]
     },
     "metadata": {},
     "output_type": "display_data"
    }
   ],
   "source": [
    "fig, axes = plt.subplots(nrows=1, ncols=2)\n",
    "g_fd = np.array([g1_fd, g2_fd])\n",
    "for i, ax in enumerate(axes.flat):\n",
    "    im = ax.imshow(g_fd[i], origin='lower')\n",
    "    ax.axis(False)\n",
    "    ax.set_title(f\"g{i+1}\")\n",
    "\n",
    "fig.colorbar(im, ax=axes.ravel().tolist())"
   ]
  },
  {
   "cell_type": "code",
   "execution_count": 8,
   "id": "f55b0a46-63e5-4008-8860-d599fbc44e26",
   "metadata": {},
   "outputs": [
    {
     "data": {
      "text/plain": [
       "<matplotlib.image.AxesImage at 0x161496520>"
      ]
     },
     "execution_count": 8,
     "metadata": {},
     "output_type": "execute_result"
    },
    {
     "data": {
      "image/png": "[encoded data removed]",
      "text/plain": [
       "<Figure size 640x480 with 1 Axes>"
      ]
     },
     "metadata": {},
     "output_type": "display_data"
    }
   ],
   "source": [
    "sersic_gal = galsim.Sersic(n=0.5, half_light_radius=1.4, flux=40)\n",
    "img = sersic_gal.drawImage(nx=64, ny=64, wcs=wcs_g, center=(32, 32), method=\"sb\")\n",
    "plt.imshow(img.array)"
   ]
  },
  {
   "cell_type": "code",
   "execution_count": 9,
   "id": "c0f15cfc-2073-44ea-93f1-0d5d95856b43",
   "metadata": {},
   "outputs": [
    {
     "name": "stderr",
     "output_type": "stream",
     "text": [
      "2023/10/20 14:11:38 ---  Unable to initialize backend 'cuda': module 'jaxlib.xla_extension' has no attribute 'GpuAllocatorConfig'\n",
      "2023/10/20 14:11:38 ---  Unable to initialize backend 'rocm': module 'jaxlib.xla_extension' has no attribute 'GpuAllocatorConfig'\n",
      "2023/10/20 14:11:38 ---  Unable to initialize backend 'tpu': INTERNAL: Failed to open libtpu.so: dlopen(libtpu.so, 0x0001): tried: 'libtpu.so' (no such file), '/System/Volumes/Preboot/Cryptexes/OSlibtpu.so' (no such file), '/Users/andypark/miniconda3/envs/batsim/bin/../lib/libtpu.so' (no such file), '/usr/lib/libtpu.so' (no such file, not in dyld cache), 'libtpu.so' (no such file), '/usr/local/lib/libtpu.so' (no such file), '/usr/lib/libtpu.so' (no such file, not in dyld cache)\n",
      "2023/10/20 14:11:38 ---  Order of the shear estimator: nnord=4\n",
      "2023/10/20 14:11:38 ---  Shapelet kernel in configuration space: sigma= 0.5300 arcsec\n",
      "2023/10/20 14:11:38 ---  Detection kernel in configuration space: sigma= 0.5300 arcsec\n"
     ]
    },
    {
     "name": "stdout",
     "output_type": "stream",
     "text": [
      "measured shear1: -0.0008989\n",
      "measured shear2: -0.0010856\n"
     ]
    }
   ],
   "source": [
    "nn = 64\n",
    "shape = (nn, nn)\n",
    "scale = 0.2\n",
    "psf_array = np.zeros(shape)\n",
    "psf_array[nn // 2, nn // 2] = 1\n",
    "center_xy = np.array([nn//2+1, nn//2+1])\n",
    "\n",
    "fpTask  =   fpfs.image.measure_source(psf_array, pix_scale = scale, sigma_arcsec=0.53)\n",
    "mms =  fpTask.measure(img.array, center_xy)\n",
    "mms = fpTask.get_results(mms)\n",
    "ells=   fpfs.catalog.fpfs_m2e(mms,const=20)\n",
    "resp1=np.average(ells['fpfs_R1E'])\n",
    "shear1=np.average(ells['fpfs_e1'])/resp1\n",
    "resp2=np.average(ells['fpfs_R2E'])\n",
    "shear2=np.average(ells['fpfs_e2'])/resp2\n",
    "\n",
    "print(\"measured shear1: %.7f\" % shear1)\n",
    "print(\"measured shear2: %.7f\" % shear2)"
   ]
  },
  {
   "cell_type": "code",
   "execution_count": 10,
   "id": "3aafcf90-735f-49e0-b053-6fad4ea9f97d",
   "metadata": {},
   "outputs": [
    {
     "data": {
      "text/plain": [
       "(-0.0013430572112116033, -0.0007178825540912163)"
      ]
     },
     "execution_count": 10,
     "metadata": {},
     "output_type": "execute_result"
    }
   ],
   "source": [
    "# Field distortion at the center of galaxy\n",
    "g1_fd[32, 32], g2_fd[32, 32]"
   ]
  }
 ],
 "metadata": {
  "kernelspec": {
   "display_name": "Python 3 (ipykernel)",
   "language": "python",
   "name": "python3"
  },
  "language_info": {
   "codemirror_mode": {
    "name": "ipython",
    "version": 3
   },
   "file_extension": ".py",
   "mimetype": "text/x-python",
   "name": "python",
   "nbconvert_exporter": "python",
   "pygments_lexer": "ipython3",
   "version": "3.9.18"
  }
 },
 "nbformat": 4,
 "nbformat_minor": 5
}
