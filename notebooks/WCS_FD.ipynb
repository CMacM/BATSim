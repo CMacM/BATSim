{
 "cells": [
  {
   "cell_type": "code",
   "execution_count": 1,
   "id": "98de6e86-c955-4c33-9058-a2627b859488",
   "metadata": {},
   "outputs": [],
   "source": [
    "%matplotlib inline\n",
    "%reload_ext autoreload\n",
    "%autoreload 2\n",
    "import os\n",
    "import galsim\n",
    "from galsim.angle import radians, arcsec, degrees, AngleUnit\n",
    "import numpy as np\n",
    "import matplotlib.pylab as plt\n",
    "import time\n",
    "import sys\n",
    "\n",
    "sys.path.append('/Users/andypark/Desktop/phd/batsim/src')\n",
    "import batsim.pltutil as batplot\n",
    "\n",
    "from astropy import wcs\n",
    "from astropy.io import fits\n",
    "from astropy.wcs import WCS\n",
    "from astropy.utils.data import get_pkg_data_filename\n",
    "\n",
    "import fpfs\n",
    "\n",
    "import jax\n",
    "import jax.numpy as jnp\n",
    "jax.config.update(\"jax_enable_x64\", True)"
   ]
  },
  {
   "cell_type": "code",
   "execution_count": 2,
   "id": "11d62bab-dc41-4a74-adaf-ee2ebfde8417",
   "metadata": {},
   "outputs": [
    {
     "name": "stderr",
     "output_type": "stream",
     "text": [
      "WARNING: FITSFixedWarning: 'datfix' made the change 'Set DATE-OBS to '2025-12-08T01:04:57.498' from MJD-OBS'. [astropy.wcs.wcs]\n",
      "2023/10/20 14:07:25 ---  FITSFixedWarning: 'datfix' made the change 'Set DATE-OBS to '2025-12-08T01:04:57.498' from MJD-OBS'.\n"
     ]
    }
   ],
   "source": [
    "wcsfile = \"./eimage_00449053-0-r-R03_S02-det020.fits\"\n",
    "f = fits.open(wcsfile)\n",
    "w = WCS(f[0].header)\n",
    "#w.wcs.cd *= 1. * arcsec / degrees\n",
    "#w.sip.a[1, 0] += 1.\n",
    "#w.sip.b[0, 1] += 1."
   ]
  },
  {
   "cell_type": "code",
   "execution_count": 3,
   "id": "3d854779-5271-4644-8ca5-b747a0c6460b",
   "metadata": {},
   "outputs": [
    {
     "data": {
      "text/plain": [
       "(54.494749102342645, -33.899898366804834)"
      ]
     },
     "execution_count": 3,
     "metadata": {},
     "output_type": "execute_result"
    }
   ],
   "source": [
    "wcs_g = galsim.GSFitsWCS(wcsfile)\n",
    "skypos = wcs_g.toWorld(galsim.PositionI(0, 0))\n",
    "skypos.ra.deg, skypos.dec.deg"
   ]
  },
  {
   "cell_type": "markdown",
   "id": "e82367c0-40da-4ccd-9cf3-7a7255ae619c",
   "metadata": {},
   "source": [
    "Let $x, y$ be the relative pixel coordinates with origin at $\\mathrm{CRPIX1}$ and $\\mathrm{CRPIX2}$ and $u, v$ be the coordinates on the tangent plane of the celestial sphere\n",
    "$$\n",
    "\\begin{pmatrix}u \\\\ v\\end{pmatrix} = \\begin{pmatrix}\\mathrm{CD1\\_1} & \\mathrm{CD1\\_1} \\\\ \\mathrm{CD2\\_1} & \\mathrm{CD2\\_2}\\end{pmatrix}\\begin{pmatrix}x + f(x, y) \\\\ y + g(x, y)\\end{pmatrix}$$\n",
    "\n",
    "The distortion matrix can be written as\n",
    "$$\n",
    "\\begin{pmatrix}du \\\\ dv\\end{pmatrix} = \\begin{pmatrix}\\partial_x u & \\partial_y u \\\\ \\partial_x v & \\partial_y v\\end{pmatrix}\\begin{pmatrix}dx \\\\ dy\\end{pmatrix} = M\\begin{pmatrix}1 - g_1 & -g_2 + \\theta \\\\ -g_2-\\theta & 1+g_1\\end{pmatrix}\\begin{pmatrix}dx \\\\ dy\\end{pmatrix}$$\n",
    "\n",
    "and Field-Distortion Shear as\n",
    "$$g_1(\\mathrm{FD}) = (\\partial_y v - \\partial_x u) / (\\partial_y v + \\partial_x u)$$ and \n",
    "$$g_2(\\mathrm{FD}) = -(\\partial_x v - \\partial_y u) / (\\partial_y v + \\partial_x u)$$"
   ]
  },
  {
   "cell_type": "code",
   "execution_count": 4,
   "id": "578bea7c-a621-4372-abde-dc7c021c9ba2",
   "metadata": {},
   "outputs": [],
   "source": [
    "def get_radec(params, w, deg=False):\n",
    "    params = jnp.asarray(params)\n",
    "    params = params.astype(jnp.float64)\n",
    "    u, v = get_uv(params, w)\n",
    "    # 4) turn u, v into ra, dec\n",
    "    cra, cdec = w.wcs.crval * degrees\n",
    "    cra = cra.rad\n",
    "    cdec = cdec.rad\n",
    "    #u = u * radians / degrees\n",
    "    #v = v * radians / degrees\n",
    "    #https://github.com/LSSTDESC/Coord/blob/fdb834dbb0d5fe8ef8da97ba54343aca94e7030f/coord/celestial.py#L738\n",
    "    rsq = u * u\n",
    "    rsq += v * v\n",
    "    cosc = sinc_over_r = 1./jnp.sqrt(1.+rsq)\n",
    "    sindec = v * sinc_over_r\n",
    "    sindec *= jnp.cos(cdec)\n",
    "    sindec += cosc * jnp.sin(cdec)\n",
    "    tandra_num = u * sinc_over_r\n",
    "    tandra_num *= -1.\n",
    "    tandra_denom = v * sinc_over_r\n",
    "    tandra_denom *= -jnp.sin(cdec)\n",
    "    tandra_denom += cosc * jnp.cos(cdec)\n",
    "    dec = jnp.arcsin(sindec)\n",
    "    ra = cra + jnp.arctan2(tandra_num, tandra_denom)\n",
    "    #center = galsim.CelestialCoord(w.wcs.crval[0] * degrees, w.wcs.crval[1] * degrees)\n",
    "    #ra, dec = center.deproject_rad(u, v, \"gnomonic\")\n",
    "    if deg:\n",
    "        return ra * 180. / jnp.pi, dec * 180. / jnp.pi\n",
    "    return ra, dec"
   ]
  },
  {
   "cell_type": "code",
   "execution_count": 5,
   "id": "ec96ad44-1bec-4cbb-9d27-599b1c659597",
   "metadata": {},
   "outputs": [],
   "source": [
    "def get_uv(params, w):\n",
    "    params = jnp.asarray(params).astype(jnp.float32)\n",
    "    x, y = params\n",
    "    x -= w.wcs.crpix[0]\n",
    "    y -= w.wcs.crpix[1] \n",
    "\n",
    "    ab = np.array([w.sip.a, w.sip.b])\n",
    "    order = len(ab[0])-1\n",
    "    xpow = x ** jnp.arange(order+1)\n",
    "    ypow = y ** jnp.arange(order+1)\n",
    "    p1 = jnp.dot(jnp.dot(ab, ypow), xpow)\n",
    "    \n",
    "    x += p1[0]\n",
    "    y += p1[1]\n",
    "    \n",
    "    u, v = w.wcs.cd @ jnp.array([x, y])\n",
    "    factor = 1. * degrees / radians\n",
    "    u *= -factor\n",
    "    v *= factor\n",
    "    \n",
    "    return jnp.array([u, v])\n",
    "    #return u, v"
   ]
  },
  {
   "cell_type": "code",
   "execution_count": null,
   "id": "690fdfbb-e655-4cb6-a2ad-cdc35e23edd4",
   "metadata": {},
   "outputs": [
    {
     "name": "stderr",
     "output_type": "stream",
     "text": [
      "Exception ignored in: <function _xla_gc_callback at 0x15e3b8040>\n",
      "Traceback (most recent call last):\n",
      "  File \"/Users/andypark/miniconda3/envs/batsim/lib/python3.9/site-packages/jax/_src/lib/__init__.py\", line 101, in _xla_gc_callback\n",
      "    def _xla_gc_callback(*args):\n",
      "KeyboardInterrupt: \n"
     ]
    }
   ],
   "source": [
    "# To get the field distortion shear field from the wcs\n",
    "if not os.path.exists(\"./g1_fd.fits\") and not os.path.exists(\"./g2_fd.fits\"):\n",
    "    jac = np.vectorize(wcs_g.local)\n",
    "    pos = np.array([galsim.PositionI(i, j) for i in range(4072) for j in range(4000)])\n",
    "    jac_pos = jac(pos)\n",
    "    \n",
    "    def get_shear(jac):\n",
    "        g1_fd = (jac.dvdy - jac.dudx) / (jac.dvdy + jac.dudx)\n",
    "        g2_fd = -(jac.dvdx + jac.dudy) / (jac.dvdy + jac.dudx)\n",
    "        return g1_fd, g2_fd\n",
    "        \n",
    "    g1_fd, g2_fd = np.vectorize(get_shear)(jac_pos)\n",
    "else:\n",
    "    g1_fd = fits.open(\"./g1_fd.fits\")[0].data\n",
    "    g2_fd = fits.open(\"./g2_fd.fits\")[0].data"
   ]
  },
  {
   "cell_type": "code",
   "execution_count": null,
   "id": "dd747fef-939a-4fa9-870e-a901a3144b54",
   "metadata": {},
   "outputs": [],
   "source": []
  }
 ],
 "metadata": {
  "kernelspec": {
   "display_name": "Python 3 (ipykernel)",
   "language": "python",
   "name": "python3"
  },
  "language_info": {
   "codemirror_mode": {
    "name": "ipython",
    "version": 3
   },
   "file_extension": ".py",
   "mimetype": "text/x-python",
   "name": "python",
   "nbconvert_exporter": "python",
   "pygments_lexer": "ipython3",
   "version": "3.9.18"
  }
 },
 "nbformat": 4,
 "nbformat_minor": 5
}
