{
 "cells": [
  {
   "cell_type": "code",
   "execution_count": 6,
   "id": "095ded14-ad08-4c21-b4df-1ab7a71b2a01",
   "metadata": {},
   "outputs": [],
   "source": [
    "%matplotlib inline\n",
    "%reload_ext autoreload\n",
    "%autoreload 2\n",
    "import os\n",
    "import galsim\n",
    "import numpy as np\n",
    "import matplotlib.pylab as plt\n",
    "import time\n",
    "import fpfs\n",
    "\n",
    "import sys\n",
    "sys.path.append('/home/b7009348/FPFS-project/')\n",
    "\n",
    "import batsim.pltutil as batplot\n",
    "from batsim.stamp import Stamp\n",
    "from batsim.transforms import IaTransform "
   ]
  },
  {
   "cell_type": "code",
   "execution_count": null,
   "id": "5be5d1cc-aaa6-430d-a77f-c9e53170ab47",
   "metadata": {},
   "outputs": [],
   "source": [
    "## create a galaxy with raidall dependent shear\n",
    "flux = 40\n",
    "scale = 0.2\n",
    "size = 64\n",
    "hlr = 2.4\n",
    "\n",
    "\n",
    "sersic_gal = galsim.Sersic(n=1.5, half_light_radius=, flux=flux, trunc=4)\n",
    "stamp = Stamp(nn=nn, scale=scale)\n",
    "gal_array = stamp.sample_galaxy(sersic_gal)\n",
    "plt.close()\n",
    "batplot.make_plot_image(gal_array)"
   ]
  }
 ],
 "metadata": {
  "kernelspec": {
   "display_name": "Python [conda env:fpfs]",
   "language": "python",
   "name": "conda-env-fpfs-py"
  },
  "language_info": {
   "codemirror_mode": {
    "name": "ipython",
    "version": 3
   },
   "file_extension": ".py",
   "mimetype": "text/x-python",
   "name": "python",
   "nbconvert_exporter": "python",
   "pygments_lexer": "ipython3",
   "version": "3.9.16"
  }
 },
 "nbformat": 4,
 "nbformat_minor": 5
}
