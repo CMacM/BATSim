{
 "cells": [
  {
   "cell_type": "code",
   "execution_count": null,
   "metadata": {},
   "outputs": [],
   "source": [
    "import galsim\n",
    "import batsim\n",
    "import numpy as np\n",
    "import matplotlib.pyplot as plt\n",
    "\n",
    "from time import time\n",
    "\n",
    "print(batsim._gsinterface.version())"
   ]
  },
  {
   "cell_type": "code",
   "execution_count": null,
   "metadata": {},
   "outputs": [],
   "source": [
    "# load in COSMOS catalog\n",
    "cosmos_cat = galsim.COSMOSCatalog()\n",
    "\n",
    "# create a galaxy\n",
    "rng = galsim.BaseDeviate(10000)\n",
    "gal = cosmos_cat.makeGalaxy(n_random=1, rng=rng, gal_type=\"parametric\")\n",
    "\n",
    "# get simulation pixel scale and number\n",
    "# scale = gal.nyquist_scale\n",
    "# nn = gal.getGoodImageSize(scale)\n",
    "# print(\"Sim scale: \", scale)\n",
    "# print(\"Sim nn: \", nn)\n",
    "\n",
    "start = time()\n",
    "# img = galsim.Image(nn,nn, scale=scale)\n",
    "# img = gal.drawReal(img)\n",
    "galimg = gal.drawImage(method=\"sb\")\n",
    "print(\"GalSim drawImage: \", time() - start, \"seconds\")\n",
    "print(\"Tot flux\", np.sum(galimg.array))\n",
    "plt.imshow(galimg.array)"
   ]
  },
  {
   "cell_type": "code",
   "execution_count": null,
   "metadata": {},
   "outputs": [],
   "source": [
    "stamp = batsim.Stamp(nn=nn, scale=scale, centering=[0.5 * scale, 0.5 * scale])\n",
    "start = time()\n",
    "batarr = stamp.sample_galaxy(gal)\n",
    "print(\"Batsim sample_galaxy: \", time() - start, \"seconds\")\n",
    "print(\"Tot flux\", np.sum(batarr))\n",
    "plt.imshow(batarr)\n",
    "plt.colorbar()"
   ]
  },
  {
   "cell_type": "code",
   "execution_count": null,
   "metadata": {},
   "outputs": [],
   "source": [
    "batimg = galsim.Image(batarr, scale=scale)\n",
    "batobj = galsim.InterpolatedImage(batimg, scale=scale, normalization=\"sb\")"
   ]
  },
  {
   "cell_type": "code",
   "execution_count": null,
   "metadata": {},
   "outputs": [],
   "source": [
    "psf = galsim.Moffat(beta=3.5, fwhm=0.6, flux=1.0)\n",
    "batpsf = galsim.Convolve([psf, batobj])\n",
    "galpsf = galsim.Convolve([psf, gal])\n",
    "\n",
    "batpsfimg = batpsf.drawImage(nx=128, ny=128, scale=0.2, method=\"auto\")\n",
    "galpsfimg = galpsf.drawImage(nx=128, ny=128, scale=0.2, method=\"auto\")\n",
    "\n",
    "plt.imshow(batpsfimg.array - galpsfimg.array)\n",
    "plt.colorbar()"
   ]
  }
 ],
 "metadata": {
  "kernelspec": {
   "display_name": "FPFS-BATSim",
   "language": "python",
   "name": "python3"
  },
  "language_info": {
   "codemirror_mode": {
    "name": "ipython",
    "version": 3
   },
   "file_extension": ".py",
   "mimetype": "text/x-python",
   "name": "python",
   "nbconvert_exporter": "python",
   "pygments_lexer": "ipython3",
   "version": "3.11.5"
  }
 },
 "nbformat": 4,
 "nbformat_minor": 2
}
