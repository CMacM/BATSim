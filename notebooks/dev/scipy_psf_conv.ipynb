{
 "cells": [
  {
   "cell_type": "code",
   "execution_count": null,
   "metadata": {},
   "outputs": [],
   "source": [
    "%matplotlib inline\n",
    "%reload_ext autoreload\n",
    "%autoreload 2\n",
    "import numpy as np\n",
    "import galsim\n",
    "import batsim\n",
    "import time\n",
    "import matplotlib.pyplot as plt"
   ]
  },
  {
   "cell_type": "code",
   "execution_count": null,
   "metadata": {},
   "outputs": [],
   "source": [
    "# lensing shear and kappa convergence\n",
    "gamma1 = 0.00\n",
    "gamma2 = -0.00\n",
    "kappa = 0.0\n",
    "# reduced shear and lensing magnification\n",
    "g1 = gamma1 / (1 - kappa)\n",
    "g2 = gamma2 / (1 - kappa)\n",
    "mu = 1 / ((1 - kappa) ** 2 - gamma1**2 - gamma2**2)\n",
    "galsim_fname = \"/work/xiangchong.li/work/COSMOS/galsim_train/COSMOS_25.2_training_sample/real_galaxy_catalog_25.2.fits\"\n",
    "gsparams = galsim.GSParams()\n",
    "cosmos = galsim.COSMOSCatalog(galsim_fname)\n",
    "if False:\n",
    "    sersic = cosmos.makeGalaxy(\n",
    "        10, gal_type=\"parametric\", noise_pad_size=0, gsparams=gsparams\n",
    "    )\n",
    "else:\n",
    "    sersic = galsim.Sersic(n=1.0, half_light_radius=1.4, flux=20)\n",
    "sersic2 = sersic.lens(g1=g1, g2=g2, mu=mu)\n",
    "psf = galsim.Moffat(beta=3.5, fwhm=0.8, flux=1.0)\n",
    "\n",
    "# Get nyquist scale and image size\n",
    "scale = min(sersic.nyquist_scale / 8, psf.nyquist_scale / 4.0)\n",
    "\n",
    "\n",
    "def next_power_of_2(v):\n",
    "    return int(2 ** np.ceil(np.log2(v)))\n",
    "\n",
    "\n",
    "nn = int((sersic.calculateMomentRadius() / scale)) * 20\n",
    "\n",
    "image = (\n",
    "    sersic2.shift(0.5 * scale, 0.5 * scale)\n",
    "    .drawImage(nx=nn, ny=nn, scale=scale, method=\"no_pixel\")\n",
    "    .array\n",
    ")\n",
    "\n",
    "Lens = batsim.LensTransform(gamma1=gamma1, gamma2=gamma2, kappa=kappa)\n",
    "\n",
    "t0 = time.time()\n",
    "galfluxes = batsim.simulate_galaxy(\n",
    "    nn=nn, scale=scale, gal_obj=sersic, transform_obj=Lens\n",
    ")\n",
    "t1 = time.time()\n",
    "print(\"Time taken:\", t1 - t0)\n",
    "plt.close()\n",
    "plt.imshow(galfluxes - image)\n",
    "plt.colorbar()\n",
    "print(scale)"
   ]
  },
  {
   "cell_type": "code",
   "execution_count": null,
   "metadata": {},
   "outputs": [],
   "source": [
    "Lens = batsim.LensTransform(gamma1=gamma1, gamma2=gamma2, kappa=kappa)\n",
    "t0 = time.time()\n",
    "image_conv = batsim.simulate_galaxy(\n",
    "    nn=nn, scale=scale, gal_obj=sersic, transform_obj=Lens, psf_obj=psf\n",
    ")\n",
    "t1 = time.time()\n",
    "print(\"Time taken:\", t1 - t0)\n",
    "image_conv_galsim = (\n",
    "    galsim.Convolve([sersic2, psf])\n",
    "    .shift(0.5 * scale, 0.5 * scale)\n",
    "    .drawImage(nx=nn, ny=nn, scale=scale, method=\"no_pixel\")\n",
    "    .array\n",
    ")\n",
    "\n",
    "plt.close()\n",
    "plt.imshow(image_conv - image_conv_galsim)\n",
    "plt.colorbar()\n",
    "\n",
    "print(np.max(image_conv), np.max(image_conv))\n",
    "print(np.sum(image_conv_galsim), np.sum(image_conv_galsim))\n",
    "print(np.max(np.abs(image_conv - image_conv_galsim) / image_conv_galsim.max()))"
   ]
  },
  {
   "cell_type": "code",
   "execution_count": null,
   "metadata": {},
   "outputs": [],
   "source": [
    "plt.close()\n",
    "plt.imshow(image_conv_galsim)\n",
    "plt.colorbar()"
   ]
  },
  {
   "cell_type": "code",
   "execution_count": null,
   "metadata": {},
   "outputs": [],
   "source": [
    "plt.close()\n",
    "plt.imshow(image_conv)\n",
    "plt.colorbar()"
   ]
  },
  {
   "cell_type": "code",
   "execution_count": null,
   "metadata": {},
   "outputs": [],
   "source": [
    "if False:\n",
    "    sersic = galsim.Sersic(n=1.0, half_light_radius=0.1, flux=20).shear(g1=0.2, g2=-0.5)\n",
    "    image = (\n",
    "        sersic.shift(0.5 * scale, 0.5 * scale)\n",
    "        .drawImage(nx=nn, ny=nn, scale=scale, method=\"no_pixel\")\n",
    "        .array\n",
    "    )\n",
    "x = np.fft.rfftfreq(nn, scale / np.pi / 2.0)\n",
    "y = np.fft.fftfreq(nn, scale / np.pi / 2.0)\n",
    "inds = np.meshgrid(y, x, indexing=\"ij\")\n",
    "coords = np.vstack([np.ravel(_) for _ in inds[::-1]])\n",
    "kygrid, kxgrid = np.meshgrid(y, x, indexing=\"ij\")\n",
    "\n",
    "image_rfft = np.fft.rfft2(np.fft.ifftshift(image))\n",
    "\n",
    "ix = 103\n",
    "iy = 2000\n",
    "print(image_rfft[iy, ix])\n",
    "kx = kxgrid[iy, ix]\n",
    "ky = kygrid[iy, ix]\n",
    "print(kx, ky)\n",
    "print(sersic.kValue(galsim.PositionD(kx, ky)))"
   ]
  }
 ],
 "metadata": {
  "kernelspec": {
   "display_name": "Python 3 (ipykernel)",
   "language": "python",
   "name": "python3"
  },
  "language_info": {
   "codemirror_mode": {
    "name": "ipython",
    "version": 3
   },
   "file_extension": ".py",
   "mimetype": "text/x-python",
   "name": "python",
   "nbconvert_exporter": "python",
   "pygments_lexer": "ipython3",
   "version": "3.11.8"
  }
 },
 "nbformat": 4,
 "nbformat_minor": 4
}
