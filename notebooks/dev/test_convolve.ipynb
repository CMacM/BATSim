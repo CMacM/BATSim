{
 "cells": [
  {
   "cell_type": "code",
   "execution_count": null,
   "metadata": {},
   "outputs": [],
   "source": [
    "%matplotlib inline\n",
    "%reload_ext autoreload\n",
    "%autoreload 2\n",
    "import numpy as np\n",
    "import galsim\n",
    "import batsim\n",
    "import time\n",
    "import matplotlib.pyplot as plt"
   ]
  },
  {
   "cell_type": "code",
   "execution_count": null,
   "metadata": {},
   "outputs": [],
   "source": [
    "psf = galsim.Gaussian(fwhm=1e-10, flux=1.0)"
   ]
  },
  {
   "cell_type": "code",
   "execution_count": null,
   "metadata": {},
   "outputs": [],
   "source": [
    "psf.kValue(galsim.PositionD(2.0, 1.0))"
   ]
  },
  {
   "cell_type": "code",
   "execution_count": null,
   "metadata": {},
   "outputs": [],
   "source": [
    "gal = galsim.Sersic(n=0.5, half_light_radius=1.5, flux=20).shear(g1=0.04, g2=-0.1)\n",
    "# gal = galsim.Gaussian(half_light_radius=1.5, flux=20).shear(g1=0.04, g2=-0.1)\n",
    "psf = galsim.Gaussian(fwhm=1.2, flux=1.0)\n",
    "gal_conv = galsim.Convolve([gal, psf])\n",
    "nn = 128\n",
    "scale = 0.2\n",
    "image = (\n",
    "    gal.shift(0.5 * scale, 0.5 * scale)\n",
    "    .drawImage(nx=nn, ny=nn, scale=scale, method=\"no_pixel\")\n",
    "    .array\n",
    ")\n",
    "image_psf = (\n",
    "    psf.shift(0.5 * scale, 0.5 * scale)\n",
    "    .drawImage(nx=nn, ny=nn, scale=scale, method=\"no_pixel\")\n",
    "    .array\n",
    ")\n",
    "\n",
    "image_conv = (\n",
    "    gal_conv.shift(scale, scale)\n",
    "    .drawImage(nx=nn / 4, ny=nn / 4, scale=scale * 2, method=\"no_pixel\")\n",
    "    .array\n",
    ")\n",
    "\n",
    "plt.close()\n",
    "plt.imshow(image)\n",
    "plt.colorbar()\n",
    "print(scale)"
   ]
  },
  {
   "cell_type": "code",
   "execution_count": null,
   "metadata": {},
   "outputs": [],
   "source": [
    "plt.close()\n",
    "plt.imshow(image_conv)\n",
    "plt.colorbar()"
   ]
  },
  {
   "cell_type": "code",
   "execution_count": null,
   "metadata": {},
   "outputs": [],
   "source": [
    "image_conv2 = batsim._gsinterface.convolvePsf(\n",
    "    scale, psf._sbp, image, 2, ngrid=int(nn / 4)\n",
    ")\n",
    "plt.close()\n",
    "plt.imshow(image_conv2 - image_conv)\n",
    "plt.colorbar()"
   ]
  },
  {
   "cell_type": "code",
   "execution_count": null,
   "metadata": {},
   "outputs": [],
   "source": [
    "plt.imshow(image_conv2)\n",
    "plt.colorbar()"
   ]
  },
  {
   "cell_type": "code",
   "execution_count": null,
   "metadata": {},
   "outputs": [],
   "source": [
    "image_conv2.shape"
   ]
  },
  {
   "cell_type": "code",
   "execution_count": null,
   "metadata": {},
   "outputs": [],
   "source": [
    "gal = (\n",
    "    galsim.Sersic(n=1.0, half_light_radius=2.0, flux=20)\n",
    "    .shear(g1=0.24, g2=-0.13)\n",
    "    .shift(2 * scale, 3 * scale)\n",
    ")\n",
    "# gal = galsim.Gaussian(half_light_radius=1.5, flux=20).shear(g1=0.24, g2=-0.1)\n",
    "psf = galsim.Gaussian(fwhm=1.3, flux=1.0)\n",
    "gal_conv = galsim.Convolve([gal, psf])\n",
    "nn = 1280\n",
    "scale = 0.02\n",
    "image = (\n",
    "    gal.shift(0.5 * scale, 0.5 * scale)\n",
    "    .drawImage(nx=nn, ny=nn, scale=scale, method=\"no_pixel\")\n",
    "    .array\n",
    ")\n",
    "\n",
    "image_psf = (\n",
    "    psf.shift(0.5 * scale, 0.5 * scale)\n",
    "    .drawImage(nx=nn, ny=nn, scale=scale, method=\"no_pixel\")\n",
    "    .array\n",
    ")\n",
    "\n",
    "scale2 = 0.2\n",
    "nn2 = 64\n",
    "image_conv = (\n",
    "    gal_conv.shift(scale2 * 0.5, scale2 * 0.5)\n",
    "    .drawImage(nx=nn2, ny=nn2, scale=scale2, method=\"no_pixel\")\n",
    "    .array\n",
    ")\n",
    "\n",
    "plt.close()\n",
    "plt.imshow(image)\n",
    "plt.colorbar()\n",
    "print(scale)"
   ]
  },
  {
   "cell_type": "code",
   "execution_count": null,
   "metadata": {},
   "outputs": [],
   "source": [
    "image_conv2 = batsim._gsinterface.convolvePsf(\n",
    "    scale, psf._sbp, image, downsample_ratio=10, ngrid=nn2\n",
    ")\n",
    "image_conv3 = np.fft.ifft2(\n",
    "    np.fft.fft2(image) * np.fft.fft2(np.fft.ifftshift(image_psf))\n",
    ").real\n",
    "plt.close()\n",
    "plt.imshow(image_conv - image_conv2)\n",
    "print(np.max(np.abs(image_conv - image_conv2)))\n",
    "plt.colorbar()"
   ]
  },
  {
   "cell_type": "code",
   "execution_count": null,
   "metadata": {},
   "outputs": [],
   "source": [
    "gal = galsim.Gaussian(half_light_radius=1.5, flux=20).shear(g1=0.04, g2=-0.1)\n",
    "# gal = galsim.Sersic(n=0.5, half_light_radius=1.5, flux=20).shear(g1=0.04, g2=-0.1)\n",
    "nn = 64\n",
    "scale = 0.2\n",
    "image = (\n",
    "    gal.shift(0.5 * scale, 0.5 * scale)\n",
    "    .drawImage(nx=nn, ny=nn, scale=scale, method=\"no_pixel\")\n",
    "    .array\n",
    ")\n",
    "\n",
    "x = np.fft.fftfreq(nn, scale / np.pi / 2.0)\n",
    "y = np.fft.fftfreq(nn, scale / np.pi / 2.0)\n",
    "inds = np.meshgrid(y, x, indexing=\"ij\")\n",
    "coords = np.vstack([np.ravel(_) for _ in inds[::-1]])\n",
    "kygrid, kxgrid = np.meshgrid(y, x, indexing=\"ij\")\n",
    "\n",
    "image_fft = np.fft.fft2(np.fft.ifftshift(image))\n",
    "\n",
    "ix = 32\n",
    "for iy in range(nn):\n",
    "    kx = kxgrid[iy, ix]\n",
    "    ky = kygrid[iy, ix]\n",
    "    print(image_fft[iy, ix] - gal.kValue(galsim.PositionD(kx, ky)))"
   ]
  },
  {
   "cell_type": "code",
   "execution_count": null,
   "metadata": {},
   "outputs": [],
   "source": []
  }
 ],
 "metadata": {
  "kernelspec": {
   "display_name": "Python 3 (ipykernel)",
   "language": "python",
   "name": "python3"
  },
  "language_info": {
   "codemirror_mode": {
    "name": "ipython",
    "version": 3
   },
   "file_extension": ".py",
   "mimetype": "text/x-python",
   "name": "python",
   "nbconvert_exporter": "python",
   "pygments_lexer": "ipython3",
   "version": "3.11.8"
  }
 },
 "nbformat": 4,
 "nbformat_minor": 4
}
