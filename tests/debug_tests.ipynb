{
 "cells": [
  {
   "cell_type": "code",
   "execution_count": 7,
   "id": "0c3c9cc3-d04f-4070-bff6-f18ea8ab5bab",
   "metadata": {},
   "outputs": [],
   "source": [
    "%matplotlib inline\n",
    "%reload_ext autoreload\n",
    "%autoreload 2\n",
    "import galsim \n",
    "import numpy as np\n",
    "import matplotlib.pyplot as plt\n",
    "from batsim.transforms import IaTransform, LensTransform\n",
    "from batsim.stamp import Stamp"
   ]
  },
  {
   "cell_type": "code",
   "execution_count": 14,
   "id": "146f6e12-b070-4c27-a77d-4cc45aaf395d",
   "metadata": {},
   "outputs": [],
   "source": [
    "from test_affine_shear import test_affine_galsim\n",
    "\n",
    "test_affine_galsim()"
   ]
  },
  {
   "cell_type": "code",
   "execution_count": 15,
   "id": "5480da4c-72ad-480c-8f91-e775a7fdb57c",
   "metadata": {},
   "outputs": [],
   "source": [
    "from test_ia_shear import test_ia_shear\n",
    "\n",
    "test_ia_shear()"
   ]
  }
 ],
 "metadata": {
  "kernelspec": {
   "display_name": "Python [conda env:galsim]",
   "language": "python",
   "name": "conda-env-galsim-py"
  },
  "language_info": {
   "codemirror_mode": {
    "name": "ipython",
    "version": 3
   },
   "file_extension": ".py",
   "mimetype": "text/x-python",
   "name": "python",
   "nbconvert_exporter": "python",
   "pygments_lexer": "ipython3",
   "version": "3.11.0"
  }
 },
 "nbformat": 4,
 "nbformat_minor": 5
}
