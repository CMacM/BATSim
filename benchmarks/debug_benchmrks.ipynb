{
 "cells": [
  {
   "cell_type": "code",
   "execution_count": 54,
   "id": "e316effe-2ff9-45ca-9963-018840d72c0a",
   "metadata": {},
   "outputs": [],
   "source": [
    "%matplotlib inline\n",
    "%reload_ext autoreload\n",
    "%autoreload 2\n",
    "import sys\n",
    "\n",
    "sys.path.append('home.b7009348/Documents/BATSim_Work/BATSim/src')\n",
    "\n",
    "import benchmarks"
   ]
  },
  {
   "cell_type": "code",
   "execution_count": 60,
   "id": "bed7a323-ba64-4f78-a843-379d028702c9",
   "metadata": {},
   "outputs": [
    {
     "data": {
      "text/plain": [
       "{'batsim time': 0.059325456619262695, 'galsim time': 0.02140974998474121}"
      ]
     },
     "execution_count": 60,
     "metadata": {},
     "output_type": "execute_result"
    }
   ],
   "source": [
    "benchmarks.time_shear_speed(nn=128, scale=0.02)"
   ]
  },
  {
   "cell_type": "code",
   "execution_count": 61,
   "id": "567e7f6d-9368-442a-a6b7-79a9416c78fa",
   "metadata": {},
   "outputs": [
    {
     "data": {
      "text/plain": [
       "{'IA time': 0.06277155876159668, 'Lens time': 0.060240745544433594}"
      ]
     },
     "execution_count": 61,
     "metadata": {},
     "output_type": "execute_result"
    }
   ],
   "source": [
    "benchmarks.time_ia_speed()"
   ]
  }
 ],
 "metadata": {
  "kernelspec": {
   "display_name": "Python [conda env:galsim]",
   "language": "python",
   "name": "conda-env-galsim-py"
  },
  "language_info": {
   "codemirror_mode": {
    "name": "ipython",
    "version": 3
   },
   "file_extension": ".py",
   "mimetype": "text/x-python",
   "name": "python",
   "nbconvert_exporter": "python",
   "pygments_lexer": "ipython3",
   "version": "3.11.0"
  }
 },
 "nbformat": 4,
 "nbformat_minor": 5
}
