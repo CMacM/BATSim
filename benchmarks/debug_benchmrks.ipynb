{
 "cells": [
  {
   "cell_type": "code",
   "execution_count": 26,
   "id": "e316effe-2ff9-45ca-9963-018840d72c0a",
   "metadata": {},
   "outputs": [],
   "source": [
    "%matplotlib inline\n",
    "%reload_ext autoreload\n",
    "%autoreload 2\n",
    "import sys\n",
    "\n",
    "sys.path.append('/home/b7009348/Documents/BATSim_Work/BATSim/src')\n",
    "\n",
    "import benchmarks"
   ]
  },
  {
   "cell_type": "code",
   "execution_count": 27,
   "id": "bed7a323-ba64-4f78-a843-379d028702c9",
   "metadata": {},
   "outputs": [
    {
     "data": {
      "text/plain": [
       "{'batsim time': 0.023221254348754883, 'galsim time': 0.001178741455078125}"
      ]
     },
     "execution_count": 27,
     "metadata": {},
     "output_type": "execute_result"
    }
   ],
   "source": [
    "benchmarks.time_shear_speed()"
   ]
  }
 ],
 "metadata": {
  "kernelspec": {
   "display_name": "Python [conda env:galsim]",
   "language": "python",
   "name": "conda-env-galsim-py"
  },
  "language_info": {
   "codemirror_mode": {
    "name": "ipython",
    "version": 3
   },
   "file_extension": ".py",
   "mimetype": "text/x-python",
   "name": "python",
   "nbconvert_exporter": "python",
   "pygments_lexer": "ipython3",
   "version": "3.11.0"
  }
 },
 "nbformat": 4,
 "nbformat_minor": 5
}
